{
 "cells": [
  {
   "cell_type": "markdown",
   "metadata": {},
   "source": [
    "# __Exploratory Data Analysis__ - `business` Dataset"
   ]
  },
  {
   "cell_type": "code",
   "execution_count": 880,
   "metadata": {},
   "outputs": [],
   "source": [
    "# Import packages\n",
    "import pandas as pd\n",
    "import numpy as np\n",
    "import matplotlib.pyplot as plt\n",
    "import seaborn as sns\n",
    "\n",
    "from sklearn.preprocessing import StandardScaler, MinMaxScaler, RobustScaler\n",
    "from sklearn.linear_model import LinearRegression, LogisticRegression\n",
    "from sklearn.tree import DecisionTreeClassifier\n",
    "from sklearn.neighbors import KNeighborsClassifier, KNeighborsRegressor\n",
    "from sklearn.model_selection import learning_curve, cross_validate, cross_val_score\n",
    "\n",
    "pd.set_option('display.max_columns', None)"
   ]
  },
  {
   "cell_type": "markdown",
   "metadata": {},
   "source": [
    "## Business dataset"
   ]
  },
  {
   "cell_type": "code",
   "execution_count": 881,
   "metadata": {},
   "outputs": [],
   "source": [
    "# Load data\n",
    "business_path = '/Users/quentindubois/code/Dimasaur/scorecast/raw_data/yelp_dataset_yelp_academic_dataset_business.json'\n",
    "business = pd.read_json(business_path,\n",
    "                    lines=True)"
   ]
  },
  {
   "cell_type": "code",
   "execution_count": 882,
   "metadata": {},
   "outputs": [
    {
     "data": {
      "text/html": [
       "<div>\n",
       "<style scoped>\n",
       "    .dataframe tbody tr th:only-of-type {\n",
       "        vertical-align: middle;\n",
       "    }\n",
       "\n",
       "    .dataframe tbody tr th {\n",
       "        vertical-align: top;\n",
       "    }\n",
       "\n",
       "    .dataframe thead th {\n",
       "        text-align: right;\n",
       "    }\n",
       "</style>\n",
       "<table border=\"1\" class=\"dataframe\">\n",
       "  <thead>\n",
       "    <tr style=\"text-align: right;\">\n",
       "      <th></th>\n",
       "      <th>business_id</th>\n",
       "      <th>name</th>\n",
       "      <th>address</th>\n",
       "      <th>city</th>\n",
       "      <th>state</th>\n",
       "      <th>postal_code</th>\n",
       "      <th>latitude</th>\n",
       "      <th>longitude</th>\n",
       "      <th>stars</th>\n",
       "      <th>review_count</th>\n",
       "      <th>is_open</th>\n",
       "      <th>attributes</th>\n",
       "      <th>categories</th>\n",
       "      <th>hours</th>\n",
       "    </tr>\n",
       "  </thead>\n",
       "  <tbody>\n",
       "    <tr>\n",
       "      <th>0</th>\n",
       "      <td>Pns2l4eNsfO8kk83dixA6A</td>\n",
       "      <td>Abby Rappoport, LAC, CMQ</td>\n",
       "      <td>1616 Chapala St, Ste 2</td>\n",
       "      <td>Santa Barbara</td>\n",
       "      <td>CA</td>\n",
       "      <td>93101</td>\n",
       "      <td>34.426679</td>\n",
       "      <td>-119.711197</td>\n",
       "      <td>5.0</td>\n",
       "      <td>7</td>\n",
       "      <td>0</td>\n",
       "      <td>{'ByAppointmentOnly': 'True'}</td>\n",
       "      <td>Doctors, Traditional Chinese Medicine, Naturop...</td>\n",
       "      <td>None</td>\n",
       "    </tr>\n",
       "    <tr>\n",
       "      <th>1</th>\n",
       "      <td>mpf3x-BjTdTEA3yCZrAYPw</td>\n",
       "      <td>The UPS Store</td>\n",
       "      <td>87 Grasso Plaza Shopping Center</td>\n",
       "      <td>Affton</td>\n",
       "      <td>MO</td>\n",
       "      <td>63123</td>\n",
       "      <td>38.551126</td>\n",
       "      <td>-90.335695</td>\n",
       "      <td>3.0</td>\n",
       "      <td>15</td>\n",
       "      <td>1</td>\n",
       "      <td>{'BusinessAcceptsCreditCards': 'True'}</td>\n",
       "      <td>Shipping Centers, Local Services, Notaries, Ma...</td>\n",
       "      <td>{'Monday': '0:0-0:0', 'Tuesday': '8:0-18:30', ...</td>\n",
       "    </tr>\n",
       "    <tr>\n",
       "      <th>2</th>\n",
       "      <td>tUFrWirKiKi_TAnsVWINQQ</td>\n",
       "      <td>Target</td>\n",
       "      <td>5255 E Broadway Blvd</td>\n",
       "      <td>Tucson</td>\n",
       "      <td>AZ</td>\n",
       "      <td>85711</td>\n",
       "      <td>32.223236</td>\n",
       "      <td>-110.880452</td>\n",
       "      <td>3.5</td>\n",
       "      <td>22</td>\n",
       "      <td>0</td>\n",
       "      <td>{'BikeParking': 'True', 'BusinessAcceptsCredit...</td>\n",
       "      <td>Department Stores, Shopping, Fashion, Home &amp; G...</td>\n",
       "      <td>{'Monday': '8:0-22:0', 'Tuesday': '8:0-22:0', ...</td>\n",
       "    </tr>\n",
       "    <tr>\n",
       "      <th>3</th>\n",
       "      <td>MTSW4McQd7CbVtyjqoe9mw</td>\n",
       "      <td>St Honore Pastries</td>\n",
       "      <td>935 Race St</td>\n",
       "      <td>Philadelphia</td>\n",
       "      <td>PA</td>\n",
       "      <td>19107</td>\n",
       "      <td>39.955505</td>\n",
       "      <td>-75.155564</td>\n",
       "      <td>4.0</td>\n",
       "      <td>80</td>\n",
       "      <td>1</td>\n",
       "      <td>{'RestaurantsDelivery': 'False', 'OutdoorSeati...</td>\n",
       "      <td>Restaurants, Food, Bubble Tea, Coffee &amp; Tea, B...</td>\n",
       "      <td>{'Monday': '7:0-20:0', 'Tuesday': '7:0-20:0', ...</td>\n",
       "    </tr>\n",
       "    <tr>\n",
       "      <th>4</th>\n",
       "      <td>mWMc6_wTdE0EUBKIGXDVfA</td>\n",
       "      <td>Perkiomen Valley Brewery</td>\n",
       "      <td>101 Walnut St</td>\n",
       "      <td>Green Lane</td>\n",
       "      <td>PA</td>\n",
       "      <td>18054</td>\n",
       "      <td>40.338183</td>\n",
       "      <td>-75.471659</td>\n",
       "      <td>4.5</td>\n",
       "      <td>13</td>\n",
       "      <td>1</td>\n",
       "      <td>{'BusinessAcceptsCreditCards': 'True', 'Wheelc...</td>\n",
       "      <td>Brewpubs, Breweries, Food</td>\n",
       "      <td>{'Wednesday': '14:0-22:0', 'Thursday': '16:0-2...</td>\n",
       "    </tr>\n",
       "  </tbody>\n",
       "</table>\n",
       "</div>"
      ],
      "text/plain": [
       "              business_id                      name  \\\n",
       "0  Pns2l4eNsfO8kk83dixA6A  Abby Rappoport, LAC, CMQ   \n",
       "1  mpf3x-BjTdTEA3yCZrAYPw             The UPS Store   \n",
       "2  tUFrWirKiKi_TAnsVWINQQ                    Target   \n",
       "3  MTSW4McQd7CbVtyjqoe9mw        St Honore Pastries   \n",
       "4  mWMc6_wTdE0EUBKIGXDVfA  Perkiomen Valley Brewery   \n",
       "\n",
       "                           address           city state postal_code  \\\n",
       "0           1616 Chapala St, Ste 2  Santa Barbara    CA       93101   \n",
       "1  87 Grasso Plaza Shopping Center         Affton    MO       63123   \n",
       "2             5255 E Broadway Blvd         Tucson    AZ       85711   \n",
       "3                      935 Race St   Philadelphia    PA       19107   \n",
       "4                    101 Walnut St     Green Lane    PA       18054   \n",
       "\n",
       "    latitude   longitude  stars  review_count  is_open  \\\n",
       "0  34.426679 -119.711197    5.0             7        0   \n",
       "1  38.551126  -90.335695    3.0            15        1   \n",
       "2  32.223236 -110.880452    3.5            22        0   \n",
       "3  39.955505  -75.155564    4.0            80        1   \n",
       "4  40.338183  -75.471659    4.5            13        1   \n",
       "\n",
       "                                          attributes  \\\n",
       "0                      {'ByAppointmentOnly': 'True'}   \n",
       "1             {'BusinessAcceptsCreditCards': 'True'}   \n",
       "2  {'BikeParking': 'True', 'BusinessAcceptsCredit...   \n",
       "3  {'RestaurantsDelivery': 'False', 'OutdoorSeati...   \n",
       "4  {'BusinessAcceptsCreditCards': 'True', 'Wheelc...   \n",
       "\n",
       "                                          categories  \\\n",
       "0  Doctors, Traditional Chinese Medicine, Naturop...   \n",
       "1  Shipping Centers, Local Services, Notaries, Ma...   \n",
       "2  Department Stores, Shopping, Fashion, Home & G...   \n",
       "3  Restaurants, Food, Bubble Tea, Coffee & Tea, B...   \n",
       "4                          Brewpubs, Breweries, Food   \n",
       "\n",
       "                                               hours  \n",
       "0                                               None  \n",
       "1  {'Monday': '0:0-0:0', 'Tuesday': '8:0-18:30', ...  \n",
       "2  {'Monday': '8:0-22:0', 'Tuesday': '8:0-22:0', ...  \n",
       "3  {'Monday': '7:0-20:0', 'Tuesday': '7:0-20:0', ...  \n",
       "4  {'Wednesday': '14:0-22:0', 'Thursday': '16:0-2...  "
      ]
     },
     "execution_count": 882,
     "metadata": {},
     "output_type": "execute_result"
    }
   ],
   "source": [
    "business.head()"
   ]
  },
  {
   "cell_type": "markdown",
   "metadata": {},
   "source": [
    "## Describe data"
   ]
  },
  {
   "cell_type": "code",
   "execution_count": 883,
   "metadata": {},
   "outputs": [
    {
     "name": "stdout",
     "output_type": "stream",
     "text": [
      "<class 'pandas.core.frame.DataFrame'>\n",
      "RangeIndex: 150346 entries, 0 to 150345\n",
      "Data columns (total 14 columns):\n",
      " #   Column        Non-Null Count   Dtype  \n",
      "---  ------        --------------   -----  \n",
      " 0   business_id   150346 non-null  object \n",
      " 1   name          150346 non-null  object \n",
      " 2   address       150346 non-null  object \n",
      " 3   city          150346 non-null  object \n",
      " 4   state         150346 non-null  object \n",
      " 5   postal_code   150346 non-null  object \n",
      " 6   latitude      150346 non-null  float64\n",
      " 7   longitude     150346 non-null  float64\n",
      " 8   stars         150346 non-null  float64\n",
      " 9   review_count  150346 non-null  int64  \n",
      " 10  is_open       150346 non-null  int64  \n",
      " 11  attributes    136602 non-null  object \n",
      " 12  categories    150243 non-null  object \n",
      " 13  hours         127123 non-null  object \n",
      "dtypes: float64(3), int64(2), object(9)\n",
      "memory usage: 16.1+ MB\n"
     ]
    }
   ],
   "source": [
    "business.info()"
   ]
  },
  {
   "cell_type": "markdown",
   "metadata": {},
   "source": [
    "### __Observations__\n",
    "- The `attributes` feature has 9,2% missing values\n",
    "- The hours feature has 15,4% missing values\n",
    "- Everything else is __fine__."
   ]
  },
  {
   "cell_type": "code",
   "execution_count": 884,
   "metadata": {},
   "outputs": [
    {
     "data": {
      "text/html": [
       "<div>\n",
       "<style scoped>\n",
       "    .dataframe tbody tr th:only-of-type {\n",
       "        vertical-align: middle;\n",
       "    }\n",
       "\n",
       "    .dataframe tbody tr th {\n",
       "        vertical-align: top;\n",
       "    }\n",
       "\n",
       "    .dataframe thead th {\n",
       "        text-align: right;\n",
       "    }\n",
       "</style>\n",
       "<table border=\"1\" class=\"dataframe\">\n",
       "  <thead>\n",
       "    <tr style=\"text-align: right;\">\n",
       "      <th></th>\n",
       "      <th>latitude</th>\n",
       "      <th>longitude</th>\n",
       "      <th>stars</th>\n",
       "      <th>review_count</th>\n",
       "      <th>is_open</th>\n",
       "    </tr>\n",
       "  </thead>\n",
       "  <tbody>\n",
       "    <tr>\n",
       "      <th>count</th>\n",
       "      <td>150346.000000</td>\n",
       "      <td>150346.000000</td>\n",
       "      <td>150346.000000</td>\n",
       "      <td>150346.000000</td>\n",
       "      <td>150346.00000</td>\n",
       "    </tr>\n",
       "    <tr>\n",
       "      <th>mean</th>\n",
       "      <td>36.671150</td>\n",
       "      <td>-89.357339</td>\n",
       "      <td>3.596724</td>\n",
       "      <td>44.866561</td>\n",
       "      <td>0.79615</td>\n",
       "    </tr>\n",
       "    <tr>\n",
       "      <th>std</th>\n",
       "      <td>5.872759</td>\n",
       "      <td>14.918502</td>\n",
       "      <td>0.974421</td>\n",
       "      <td>121.120136</td>\n",
       "      <td>0.40286</td>\n",
       "    </tr>\n",
       "    <tr>\n",
       "      <th>min</th>\n",
       "      <td>27.555127</td>\n",
       "      <td>-120.095137</td>\n",
       "      <td>1.000000</td>\n",
       "      <td>5.000000</td>\n",
       "      <td>0.00000</td>\n",
       "    </tr>\n",
       "    <tr>\n",
       "      <th>25%</th>\n",
       "      <td>32.187293</td>\n",
       "      <td>-90.357810</td>\n",
       "      <td>3.000000</td>\n",
       "      <td>8.000000</td>\n",
       "      <td>1.00000</td>\n",
       "    </tr>\n",
       "    <tr>\n",
       "      <th>50%</th>\n",
       "      <td>38.777413</td>\n",
       "      <td>-86.121179</td>\n",
       "      <td>3.500000</td>\n",
       "      <td>15.000000</td>\n",
       "      <td>1.00000</td>\n",
       "    </tr>\n",
       "    <tr>\n",
       "      <th>75%</th>\n",
       "      <td>39.954036</td>\n",
       "      <td>-75.421542</td>\n",
       "      <td>4.500000</td>\n",
       "      <td>37.000000</td>\n",
       "      <td>1.00000</td>\n",
       "    </tr>\n",
       "    <tr>\n",
       "      <th>max</th>\n",
       "      <td>53.679197</td>\n",
       "      <td>-73.200457</td>\n",
       "      <td>5.000000</td>\n",
       "      <td>7568.000000</td>\n",
       "      <td>1.00000</td>\n",
       "    </tr>\n",
       "  </tbody>\n",
       "</table>\n",
       "</div>"
      ],
      "text/plain": [
       "            latitude      longitude          stars   review_count  \\\n",
       "count  150346.000000  150346.000000  150346.000000  150346.000000   \n",
       "mean       36.671150     -89.357339       3.596724      44.866561   \n",
       "std         5.872759      14.918502       0.974421     121.120136   \n",
       "min        27.555127    -120.095137       1.000000       5.000000   \n",
       "25%        32.187293     -90.357810       3.000000       8.000000   \n",
       "50%        38.777413     -86.121179       3.500000      15.000000   \n",
       "75%        39.954036     -75.421542       4.500000      37.000000   \n",
       "max        53.679197     -73.200457       5.000000    7568.000000   \n",
       "\n",
       "            is_open  \n",
       "count  150346.00000  \n",
       "mean        0.79615  \n",
       "std         0.40286  \n",
       "min         0.00000  \n",
       "25%         1.00000  \n",
       "50%         1.00000  \n",
       "75%         1.00000  \n",
       "max         1.00000  "
      ]
     },
     "execution_count": 884,
     "metadata": {},
     "output_type": "execute_result"
    }
   ],
   "source": [
    "business.describe()"
   ]
  },
  {
   "cell_type": "code",
   "execution_count": 885,
   "metadata": {},
   "outputs": [
    {
     "data": {
      "text/plain": [
       "4.0    31125\n",
       "4.5    27181\n",
       "3.5    26519\n",
       "3.0    18453\n",
       "5.0    16307\n",
       "2.5    14316\n",
       "2.0     9527\n",
       "1.5     4932\n",
       "1.0     1986\n",
       "Name: stars, dtype: int64"
      ]
     },
     "execution_count": 885,
     "metadata": {},
     "output_type": "execute_result"
    }
   ],
   "source": [
    "business.stars.value_counts()"
   ]
  },
  {
   "cell_type": "markdown",
   "metadata": {},
   "source": [
    "### __Observations__\n",
    "Few numerical columns:\n",
    "- Latitude and longitude aren't that useful\n",
    "- The `stars` feature is numerical but it is actually a discrete variable, with values ranging from 1.0 to 5.0, with a step size of 0.5 (i.e. 1.0, 1.5, 2.0, 2.5, and so on). __It will need to be encoded with an ordinal encoder.__\n",
    "- `review_count` looks like it might have a right skew: average number of reviews is 45 with a standard deviation of 121, 75th percentle is 37.\n",
    "- `is_open` is a boolean field coming through as an integer."
   ]
  },
  {
   "cell_type": "markdown",
   "metadata": {},
   "source": [
    "# Data Visualisation"
   ]
  },
  {
   "cell_type": "markdown",
   "metadata": {},
   "source": [
    "#### `categories`"
   ]
  },
  {
   "cell_type": "code",
   "execution_count": 886,
   "metadata": {},
   "outputs": [
    {
     "data": {
      "text/plain": [
       "Beauty & Spas, Nail Salons                                                                                       0.006736\n",
       "Restaurants, Pizza                                                                                               0.006223\n",
       "Nail Salons, Beauty & Spas                                                                                       0.006217\n",
       "Pizza, Restaurants                                                                                               0.005478\n",
       "Restaurants, Mexican                                                                                             0.004845\n",
       "                                                                                                                   ...   \n",
       "Dermatologists, Health & Medical, Cosmetic Surgeons, Doctors, Acne Treatment, Skin Care, Beauty & Spas           0.000007\n",
       "Home Services, Home & Garden, Nurseries & Gardening, Hardware Stores, Shopping, Building Supplies, Appliances    0.000007\n",
       "Food Trucks, Smokehouse, Restaurants, Food, Barbeque, Soul Food, Food Stands                                     0.000007\n",
       "Assisted Living Facilities, Memory Care, Health & Medical, Hospice                                               0.000007\n",
       "Beauty & Spas, Permanent Makeup, Piercing, Tattoo                                                                0.000007\n",
       "Name: categories, Length: 83160, dtype: float64"
      ]
     },
     "execution_count": 886,
     "metadata": {},
     "output_type": "execute_result"
    }
   ],
   "source": [
    "# Check most and least common categories\n",
    "business.categories.value_counts(normalize=True)"
   ]
  },
  {
   "cell_type": "code",
   "execution_count": 887,
   "metadata": {},
   "outputs": [
    {
     "data": {
      "image/png": "[encoded data removed]",
      "text/plain": [
       "<Figure size 1500x1000 with 1 Axes>"
      ]
     },
     "metadata": {},
     "output_type": "display_data"
    }
   ],
   "source": [
    "# Plotting the 50 most common categories in terms of number of businesses\n",
    "plt.figure(figsize=(15,10))\n",
    "\n",
    "cat_counts = business['categories'].value_counts().reset_index()[:50]\n",
    "cat_counts.columns = ['category', 'num_businesses']\n",
    "\n",
    "sns.barplot(data = cat_counts,\n",
    "            x='category',\n",
    "            y='num_businesses')\n",
    "\n",
    "# Rotate x-tick labels due to many categories\n",
    "plt.xticks(rotation=90, fontsize=8);"
   ]
  },
  {
   "cell_type": "code",
   "execution_count": 888,
   "metadata": {},
   "outputs": [
    {
     "data": {
      "text/plain": [
       "83160"
      ]
     },
     "execution_count": 888,
     "metadata": {},
     "output_type": "execute_result"
    }
   ],
   "source": [
    "business.categories.nunique()"
   ]
  },
  {
   "cell_type": "code",
   "execution_count": 889,
   "metadata": {},
   "outputs": [
    {
     "data": {
      "text/plain": [
       "103"
      ]
     },
     "execution_count": 889,
     "metadata": {},
     "output_type": "execute_result"
    }
   ],
   "source": [
    "business.categories.isnull().sum()"
   ]
  },
  {
   "cell_type": "code",
   "execution_count": 890,
   "metadata": {},
   "outputs": [],
   "source": [
    "#business['contains_restaurant'] = False\n",
    "business['contains_restaurants'] = business['categories'].str.contains('Restaurants')"
   ]
  },
  {
   "cell_type": "code",
   "execution_count": 891,
   "metadata": {},
   "outputs": [
    {
     "data": {
      "text/plain": [
       "False    0.65211\n",
       "True     0.34789\n",
       "Name: contains_restaurants, dtype: float64"
      ]
     },
     "execution_count": 891,
     "metadata": {},
     "output_type": "execute_result"
    }
   ],
   "source": [
    "business.contains_restaurants.value_counts(normalize=True)"
   ]
  },
  {
   "cell_type": "code",
   "execution_count": 892,
   "metadata": {},
   "outputs": [],
   "source": [
    "# Create restaurants subset\n",
    "restaurants = business[business['contains_restaurants'] == True].reset_index()\n",
    "# Drop contains_restaurants\n",
    "restaurants = restaurants.drop(columns='contains_restaurants')"
   ]
  },
  {
   "cell_type": "code",
   "execution_count": 893,
   "metadata": {},
   "outputs": [
    {
     "data": {
      "text/plain": [
       "31680"
      ]
     },
     "execution_count": 893,
     "metadata": {},
     "output_type": "execute_result"
    }
   ],
   "source": [
    "restaurants.categories.nunique()"
   ]
  },
  {
   "cell_type": "code",
   "execution_count": 894,
   "metadata": {},
   "outputs": [
    {
     "data": {
      "text/plain": [
       "Restaurants, Pizza                                                                                                                                                         0.017889\n",
       "Pizza, Restaurants                                                                                                                                                         0.015746\n",
       "Restaurants, Mexican                                                                                                                                                       0.013928\n",
       "Restaurants, Chinese                                                                                                                                                       0.013546\n",
       "Mexican, Restaurants                                                                                                                                                       0.012857\n",
       "                                                                                                                                                                             ...   \n",
       "Sports Bars, Bars, American (Traditional), Sandwiches, Nightlife, Restaurants                                                                                              0.000019\n",
       "Restaurants, Asian Fusion, Thai, Taiwanese, Noodles                                                                                                                        0.000019\n",
       "Food, Sandwiches, Fast Food, Restaurants, Diners, Seafood, Street Vendors                                                                                                  0.000019\n",
       "Imported Food, Herbs & Spices, Cosmetics & Beauty Supply, International Grocery, Beauty & Spas, Specialty Food, Ethnic Food, Shopping, Restaurants, Food, Mediterranean    0.000019\n",
       "Restaurants, Comfort Food, Food, Food Trucks, Caterers, Event Planning & Services                                                                                          0.000019\n",
       "Name: categories, Length: 31680, dtype: float64"
      ]
     },
     "execution_count": 894,
     "metadata": {},
     "output_type": "execute_result"
    }
   ],
   "source": [
    "restaurants.categories.value_counts(normalize=True)"
   ]
  },
  {
   "cell_type": "code",
   "execution_count": 895,
   "metadata": {},
   "outputs": [],
   "source": [
    "# Extract food type from the categories column\n",
    "\n",
    "# 1. Split the categories to make a list out of the different elements\n",
    "restaurants['food_type_raw'] = restaurants['categories'].str.split(', ')\n",
    "\n",
    "# 2.1 Remove the \"Restaurants\" element from the list\n",
    "restaurants['food_type_temp'] = restaurants['food_type_raw'].apply(lambda x: [item for item in x if item != \"Restaurants\"])\n",
    "# 2.2 Remove the \"Breakfast & Brunch\" element from the list\n",
    "restaurants['food_type_temp'] = restaurants['food_type_temp'].apply(lambda x: [item for item in x if item != \"Breakfast & Brunch\"])\n",
    "\n",
    "# 3. Compute length of list with remaining elements\n",
    "restaurants['food_type_length'] = restaurants['food_type_temp'].apply(len)\n",
    "\n",
    "# 4. Set `food_type` to Other when there are 3 or more elements as categories, else jsut set the 1 or 2 elements\n",
    "restaurants['food_type'] = 'O'\n",
    "\n",
    "# restaurants.loc[restaurants['food_type_length'] == 1 ,'food_type'] = restaurants.loc[restaurants['food_type_length'] == 1, \\\n",
    "#     'food_type_temp'].apply(lambda x: x[0])\n",
    "\n",
    "restaurants.loc[restaurants['food_type_length'] <= 2 ,'food_type'] = restaurants.loc[restaurants['food_type_length'] <= 2, \\\n",
    "     'food_type_temp']\n",
    "\n",
    "# 5. Order list elements alphabetically so as to get rid of \"inverted duplicates\" e.g. [Pizza, Italian] and [Italian, Pizza]\n",
    "restaurants['food_type'] = restaurants['food_type'].apply(lambda x: sorted(x))\n",
    "\n",
    "# Remove `food_type_length` column\n",
    "restaurants.drop(columns=['food_type_raw', 'food_type_temp', 'food_type_length'], inplace=True)"
   ]
  },
  {
   "cell_type": "code",
   "execution_count": 896,
   "metadata": {},
   "outputs": [
    {
     "data": {
      "text/plain": [
       "0.11936557740873957"
      ]
     },
     "execution_count": 896,
     "metadata": {},
     "output_type": "execute_result"
    }
   ],
   "source": [
    "restaurants.categories.str.contains('Breakfast & Brunch').sum()/len(restaurants)"
   ]
  },
  {
   "cell_type": "code",
   "execution_count": 897,
   "metadata": {},
   "outputs": [
    {
     "data": {
      "text/html": [
       "<div>\n",
       "<style scoped>\n",
       "    .dataframe tbody tr th:only-of-type {\n",
       "        vertical-align: middle;\n",
       "    }\n",
       "\n",
       "    .dataframe tbody tr th {\n",
       "        vertical-align: top;\n",
       "    }\n",
       "\n",
       "    .dataframe thead th {\n",
       "        text-align: right;\n",
       "    }\n",
       "</style>\n",
       "<table border=\"1\" class=\"dataframe\">\n",
       "  <thead>\n",
       "    <tr style=\"text-align: right;\">\n",
       "      <th></th>\n",
       "      <th>index</th>\n",
       "      <th>business_id</th>\n",
       "      <th>name</th>\n",
       "      <th>address</th>\n",
       "      <th>city</th>\n",
       "      <th>state</th>\n",
       "      <th>postal_code</th>\n",
       "      <th>latitude</th>\n",
       "      <th>longitude</th>\n",
       "      <th>stars</th>\n",
       "      <th>review_count</th>\n",
       "      <th>is_open</th>\n",
       "      <th>attributes</th>\n",
       "      <th>categories</th>\n",
       "      <th>hours</th>\n",
       "      <th>food_type</th>\n",
       "    </tr>\n",
       "  </thead>\n",
       "  <tbody>\n",
       "    <tr>\n",
       "      <th>49164</th>\n",
       "      <td>141558</td>\n",
       "      <td>v70BCKY2DJQ9Ve5C6Ab7tg</td>\n",
       "      <td>Luigi's Pizzaria</td>\n",
       "      <td>716 Sansom St</td>\n",
       "      <td>Philadelphia</td>\n",
       "      <td>PA</td>\n",
       "      <td>19106</td>\n",
       "      <td>39.948449</td>\n",
       "      <td>-75.153238</td>\n",
       "      <td>4.0</td>\n",
       "      <td>7</td>\n",
       "      <td>0</td>\n",
       "      <td>{'RestaurantsDelivery': 'None', 'RestaurantsTa...</td>\n",
       "      <td>Breakfast &amp; Brunch, Restaurants, Pizza, Italian</td>\n",
       "      <td>{'Monday': '10:0-21:0', 'Tuesday': '10:0-21:0'...</td>\n",
       "      <td>[Italian, Pizza]</td>\n",
       "    </tr>\n",
       "    <tr>\n",
       "      <th>20121</th>\n",
       "      <td>58023</td>\n",
       "      <td>hBVsdHTJHDpoWynN1w91EA</td>\n",
       "      <td>Outback Steakhouse</td>\n",
       "      <td>4390 N Illinois St</td>\n",
       "      <td>Swansea</td>\n",
       "      <td>IL</td>\n",
       "      <td>62226</td>\n",
       "      <td>38.567330</td>\n",
       "      <td>-89.984042</td>\n",
       "      <td>3.0</td>\n",
       "      <td>80</td>\n",
       "      <td>0</td>\n",
       "      <td>{'RestaurantsPriceRange2': '2', 'RestaurantsTa...</td>\n",
       "      <td>Steakhouses, Restaurants</td>\n",
       "      <td>{'Monday': '16:0-22:0', 'Tuesday': '16:0-22:0'...</td>\n",
       "      <td>[Steakhouses]</td>\n",
       "    </tr>\n",
       "    <tr>\n",
       "      <th>40438</th>\n",
       "      <td>116500</td>\n",
       "      <td>pcRQ_Ctv-g4upVQH2qwytw</td>\n",
       "      <td>La Parada Restaurant</td>\n",
       "      <td>301 Kietzke Ln</td>\n",
       "      <td>Reno</td>\n",
       "      <td>NV</td>\n",
       "      <td>89502</td>\n",
       "      <td>39.526110</td>\n",
       "      <td>-119.789535</td>\n",
       "      <td>4.0</td>\n",
       "      <td>130</td>\n",
       "      <td>1</td>\n",
       "      <td>{'OutdoorSeating': 'False', 'RestaurantsAttire...</td>\n",
       "      <td>Mexican, Breakfast &amp; Brunch, Event Planning &amp; ...</td>\n",
       "      <td>{'Tuesday': '7:0-17:0', 'Wednesday': '7:0-17:0...</td>\n",
       "      <td>[O]</td>\n",
       "    </tr>\n",
       "    <tr>\n",
       "      <th>38551</th>\n",
       "      <td>111081</td>\n",
       "      <td>uKnoHpDQTQZiqsOldeMx7Q</td>\n",
       "      <td>Weather Vane Ice Cream</td>\n",
       "      <td>3208 Maryville Rd</td>\n",
       "      <td>Granite City</td>\n",
       "      <td>IL</td>\n",
       "      <td>62040</td>\n",
       "      <td>38.719437</td>\n",
       "      <td>-90.103952</td>\n",
       "      <td>4.0</td>\n",
       "      <td>15</td>\n",
       "      <td>1</td>\n",
       "      <td>{'RestaurantsPriceRange2': '1', 'BusinessAccep...</td>\n",
       "      <td>Restaurants, Food, American (Traditional), Cof...</td>\n",
       "      <td>{'Monday': '0:0-0:0', 'Tuesday': '10:0-22:0', ...</td>\n",
       "      <td>[O]</td>\n",
       "    </tr>\n",
       "    <tr>\n",
       "      <th>6718</th>\n",
       "      <td>19327</td>\n",
       "      <td>rHUYy0Khq-_O8lMoj4MNKw</td>\n",
       "      <td>Westy Grille and Pub</td>\n",
       "      <td>7220 Central Ave</td>\n",
       "      <td>Saint Petersburg</td>\n",
       "      <td>FL</td>\n",
       "      <td>33707</td>\n",
       "      <td>27.770545</td>\n",
       "      <td>-82.738629</td>\n",
       "      <td>3.0</td>\n",
       "      <td>6</td>\n",
       "      <td>0</td>\n",
       "      <td>{'NoiseLevel': 'u'average'', 'OutdoorSeating':...</td>\n",
       "      <td>Bars, American (New), Pubs, Nightlife, Local F...</td>\n",
       "      <td>{'Monday': '10:0-2:0', 'Tuesday': '10:0-2:0', ...</td>\n",
       "      <td>[O]</td>\n",
       "    </tr>\n",
       "  </tbody>\n",
       "</table>\n",
       "</div>"
      ],
      "text/plain": [
       "        index             business_id                    name  \\\n",
       "49164  141558  v70BCKY2DJQ9Ve5C6Ab7tg        Luigi's Pizzaria   \n",
       "20121   58023  hBVsdHTJHDpoWynN1w91EA      Outback Steakhouse   \n",
       "40438  116500  pcRQ_Ctv-g4upVQH2qwytw    La Parada Restaurant   \n",
       "38551  111081  uKnoHpDQTQZiqsOldeMx7Q  Weather Vane Ice Cream   \n",
       "6718    19327  rHUYy0Khq-_O8lMoj4MNKw    Westy Grille and Pub   \n",
       "\n",
       "                  address              city state postal_code   latitude  \\\n",
       "49164       716 Sansom St      Philadelphia    PA       19106  39.948449   \n",
       "20121  4390 N Illinois St           Swansea    IL       62226  38.567330   \n",
       "40438      301 Kietzke Ln              Reno    NV       89502  39.526110   \n",
       "38551   3208 Maryville Rd      Granite City    IL       62040  38.719437   \n",
       "6718     7220 Central Ave  Saint Petersburg    FL       33707  27.770545   \n",
       "\n",
       "        longitude  stars  review_count  is_open  \\\n",
       "49164  -75.153238    4.0             7        0   \n",
       "20121  -89.984042    3.0            80        0   \n",
       "40438 -119.789535    4.0           130        1   \n",
       "38551  -90.103952    4.0            15        1   \n",
       "6718   -82.738629    3.0             6        0   \n",
       "\n",
       "                                              attributes  \\\n",
       "49164  {'RestaurantsDelivery': 'None', 'RestaurantsTa...   \n",
       "20121  {'RestaurantsPriceRange2': '2', 'RestaurantsTa...   \n",
       "40438  {'OutdoorSeating': 'False', 'RestaurantsAttire...   \n",
       "38551  {'RestaurantsPriceRange2': '1', 'BusinessAccep...   \n",
       "6718   {'NoiseLevel': 'u'average'', 'OutdoorSeating':...   \n",
       "\n",
       "                                              categories  \\\n",
       "49164    Breakfast & Brunch, Restaurants, Pizza, Italian   \n",
       "20121                           Steakhouses, Restaurants   \n",
       "40438  Mexican, Breakfast & Brunch, Event Planning & ...   \n",
       "38551  Restaurants, Food, American (Traditional), Cof...   \n",
       "6718   Bars, American (New), Pubs, Nightlife, Local F...   \n",
       "\n",
       "                                                   hours         food_type  \n",
       "49164  {'Monday': '10:0-21:0', 'Tuesday': '10:0-21:0'...  [Italian, Pizza]  \n",
       "20121  {'Monday': '16:0-22:0', 'Tuesday': '16:0-22:0'...     [Steakhouses]  \n",
       "40438  {'Tuesday': '7:0-17:0', 'Wednesday': '7:0-17:0...               [O]  \n",
       "38551  {'Monday': '0:0-0:0', 'Tuesday': '10:0-22:0', ...               [O]  \n",
       "6718   {'Monday': '10:0-2:0', 'Tuesday': '10:0-2:0', ...               [O]  "
      ]
     },
     "execution_count": 897,
     "metadata": {},
     "output_type": "execute_result"
    }
   ],
   "source": [
    "restaurants.sample(5, random_state=1)"
   ]
  },
  {
   "cell_type": "code",
   "execution_count": 898,
   "metadata": {},
   "outputs": [
    {
     "data": {
      "text/plain": [
       "'Restaurants, Bars, American (Traditional), Nightlife'"
      ]
     },
     "execution_count": 898,
     "metadata": {},
     "output_type": "execute_result"
    }
   ],
   "source": [
    "restaurants.sample(5, random_state=10).iloc[3,13]"
   ]
  },
  {
   "cell_type": "code",
   "execution_count": 899,
   "metadata": {},
   "outputs": [
    {
     "data": {
      "text/plain": [
       "[O]                         0.625\n",
       "[Pizza]                     0.034\n",
       "[Mexican]                   0.027\n",
       "[Chinese]                   0.026\n",
       "[Burgers, Fast Food]        0.016\n",
       "[Italian, Pizza]            0.013\n",
       "[Italian]                   0.012\n",
       "[American (New)]            0.010\n",
       "[American (Traditional)]    0.010\n",
       "[Fast Food, Sandwiches]     0.010\n",
       "Name: food_type, dtype: float64"
      ]
     },
     "execution_count": 899,
     "metadata": {},
     "output_type": "execute_result"
    }
   ],
   "source": [
    "restaurants.food_type.value_counts(normalize=True).round(3).head(10)"
   ]
  },
  {
   "cell_type": "code",
   "execution_count": 900,
   "metadata": {},
   "outputs": [],
   "source": [
    "# # Plotting the 50 most common food types (without 'Other')\n",
    "# plt.figure(figsize=(15,10))\n",
    "\n",
    "# cat_counts = restaurants['food_type'].value_counts().reset_index()[:50]\n",
    "# cat_counts.columns = ['food_type', 'num_businesses']\n",
    "\n",
    "# sns.barplot(data = cat_counts,\n",
    "#             x='food_type',\n",
    "#             y='num_businesses')\n",
    "\n",
    "# # Rotate x-tick labels due to many categories\n",
    "# plt.xticks(rotation=90, fontsize=8);"
   ]
  },
  {
   "cell_type": "markdown",
   "metadata": {},
   "source": [
    "#### __Observations__\n",
    "- VERY large number of categories: 83k\n",
    "  - This will have to be reduced by grouping categories\n",
    "- There are numerous categories that are irrelevant for the project e.g. Beauty & Spas, Nail Salons.\n",
    "  - This will also have to be cleaned up.\n",
    "\n",
    "\n",
    "__Further digging__\n",
    "- About 1/3rd of the data (52k businesses) have the word \"Restaurants\" as one of their categories\n",
    "  - ➡️ Suggestion to filter dataset for only businesses that have the word \"Restaurants\" as one of their categories.\n",
    "\n",
    "---"
   ]
  },
  {
   "cell_type": "markdown",
   "metadata": {},
   "source": [
    "#### `attributes`"
   ]
  },
  {
   "cell_type": "code",
   "execution_count": 901,
   "metadata": {},
   "outputs": [
    {
     "data": {
      "text/plain": [
       "['Alcohol',\n",
       " 'Ambience',\n",
       " 'BikeParking',\n",
       " 'BusinessAcceptsCreditCards',\n",
       " 'BusinessParking',\n",
       " 'ByAppointmentOnly',\n",
       " 'Caters',\n",
       " 'CoatCheck',\n",
       " 'DogsAllowed',\n",
       " 'DriveThru',\n",
       " 'GoodForKids',\n",
       " 'HappyHour',\n",
       " 'HasTV',\n",
       " 'OutdoorSeating',\n",
       " 'RestaurantsAttire',\n",
       " 'RestaurantsDelivery',\n",
       " 'RestaurantsGoodForGroups',\n",
       " 'RestaurantsPriceRange2',\n",
       " 'RestaurantsReservations',\n",
       " 'RestaurantsTableService',\n",
       " 'RestaurantsTakeOut',\n",
       " 'WheelchairAccessible',\n",
       " 'WiFi']"
      ]
     },
     "execution_count": 901,
     "metadata": {},
     "output_type": "execute_result"
    }
   ],
   "source": [
    "# Checking out attributes entry for an observation\n",
    "sorted(restaurants[['attributes']].iloc[1,0].keys())"
   ]
  },
  {
   "cell_type": "code",
   "execution_count": 902,
   "metadata": {},
   "outputs": [
    {
     "data": {
      "text/html": [
       "<div>\n",
       "<style scoped>\n",
       "    .dataframe tbody tr th:only-of-type {\n",
       "        vertical-align: middle;\n",
       "    }\n",
       "\n",
       "    .dataframe tbody tr th {\n",
       "        vertical-align: top;\n",
       "    }\n",
       "\n",
       "    .dataframe thead th {\n",
       "        text-align: right;\n",
       "    }\n",
       "</style>\n",
       "<table border=\"1\" class=\"dataframe\">\n",
       "  <thead>\n",
       "    <tr style=\"text-align: right;\">\n",
       "      <th></th>\n",
       "      <th>index</th>\n",
       "      <th>business_id</th>\n",
       "      <th>name</th>\n",
       "      <th>address</th>\n",
       "      <th>city</th>\n",
       "      <th>state</th>\n",
       "      <th>postal_code</th>\n",
       "      <th>latitude</th>\n",
       "      <th>longitude</th>\n",
       "      <th>stars</th>\n",
       "      <th>review_count</th>\n",
       "      <th>is_open</th>\n",
       "      <th>attributes</th>\n",
       "      <th>categories</th>\n",
       "      <th>hours</th>\n",
       "      <th>food_type</th>\n",
       "      <th>delivery</th>\n",
       "      <th>alcohol</th>\n",
       "      <th>ambience</th>\n",
       "      <th>bike_parking</th>\n",
       "      <th>credit_card</th>\n",
       "      <th>parking</th>\n",
       "      <th>appointment_only</th>\n",
       "      <th>caters</th>\n",
       "      <th>coat_check</th>\n",
       "      <th>dogs</th>\n",
       "      <th>drive_thru</th>\n",
       "      <th>good_for_kids</th>\n",
       "      <th>good_for_groups</th>\n",
       "      <th>happy_hour</th>\n",
       "      <th>tv</th>\n",
       "      <th>outdoor_seating</th>\n",
       "      <th>attire</th>\n",
       "      <th>price_range</th>\n",
       "      <th>reservations</th>\n",
       "      <th>table_service</th>\n",
       "      <th>take_out</th>\n",
       "      <th>wheelchair</th>\n",
       "      <th>wifi</th>\n",
       "    </tr>\n",
       "  </thead>\n",
       "  <tbody>\n",
       "    <tr>\n",
       "      <th>0</th>\n",
       "      <td>3</td>\n",
       "      <td>MTSW4McQd7CbVtyjqoe9mw</td>\n",
       "      <td>St Honore Pastries</td>\n",
       "      <td>935 Race St</td>\n",
       "      <td>Philadelphia</td>\n",
       "      <td>PA</td>\n",
       "      <td>19107</td>\n",
       "      <td>39.955505</td>\n",
       "      <td>-75.155564</td>\n",
       "      <td>4.0</td>\n",
       "      <td>80</td>\n",
       "      <td>1</td>\n",
       "      <td>{'RestaurantsDelivery': 'False', 'OutdoorSeati...</td>\n",
       "      <td>Restaurants, Food, Bubble Tea, Coffee &amp; Tea, B...</td>\n",
       "      <td>{'Monday': '7:0-20:0', 'Tuesday': '7:0-20:0', ...</td>\n",
       "      <td>[O]</td>\n",
       "      <td>False</td>\n",
       "      <td>u'none'</td>\n",
       "      <td>False</td>\n",
       "      <td>True</td>\n",
       "      <td>False</td>\n",
       "      <td>{'garage': False, 'street': True, 'validated':...</td>\n",
       "      <td>False</td>\n",
       "      <td>True</td>\n",
       "      <td>False</td>\n",
       "      <td>False</td>\n",
       "      <td>False</td>\n",
       "      <td>False</td>\n",
       "      <td>False</td>\n",
       "      <td>False</td>\n",
       "      <td>False</td>\n",
       "      <td>False</td>\n",
       "      <td>False</td>\n",
       "      <td>1</td>\n",
       "      <td>False</td>\n",
       "      <td>False</td>\n",
       "      <td>True</td>\n",
       "      <td>False</td>\n",
       "      <td>u'free'</td>\n",
       "    </tr>\n",
       "    <tr>\n",
       "      <th>1</th>\n",
       "      <td>5</td>\n",
       "      <td>CF33F8-E6oudUQ46HnavjQ</td>\n",
       "      <td>Sonic Drive-In</td>\n",
       "      <td>615 S Main St</td>\n",
       "      <td>Ashland City</td>\n",
       "      <td>TN</td>\n",
       "      <td>37015</td>\n",
       "      <td>36.269593</td>\n",
       "      <td>-87.058943</td>\n",
       "      <td>2.0</td>\n",
       "      <td>6</td>\n",
       "      <td>1</td>\n",
       "      <td>{'BusinessParking': 'None', 'BusinessAcceptsCr...</td>\n",
       "      <td>Burgers, Fast Food, Sandwiches, Food, Ice Crea...</td>\n",
       "      <td>{'Monday': '0:0-0:0', 'Tuesday': '6:0-22:0', '...</td>\n",
       "      <td>[O]</td>\n",
       "      <td>True</td>\n",
       "      <td>u'none'</td>\n",
       "      <td>None</td>\n",
       "      <td>False</td>\n",
       "      <td>True</td>\n",
       "      <td>None</td>\n",
       "      <td>False</td>\n",
       "      <td>False</td>\n",
       "      <td>False</td>\n",
       "      <td>False</td>\n",
       "      <td>True</td>\n",
       "      <td>True</td>\n",
       "      <td>True</td>\n",
       "      <td>False</td>\n",
       "      <td>True</td>\n",
       "      <td>True</td>\n",
       "      <td>u'casual'</td>\n",
       "      <td>1</td>\n",
       "      <td>False</td>\n",
       "      <td>False</td>\n",
       "      <td>True</td>\n",
       "      <td>True</td>\n",
       "      <td>u'no'</td>\n",
       "    </tr>\n",
       "    <tr>\n",
       "      <th>2</th>\n",
       "      <td>8</td>\n",
       "      <td>k0hlBqXX-Bt0vf1op7Jr1w</td>\n",
       "      <td>Tsevi's Pub And Grill</td>\n",
       "      <td>8025 Mackenzie Rd</td>\n",
       "      <td>Affton</td>\n",
       "      <td>MO</td>\n",
       "      <td>63123</td>\n",
       "      <td>38.565165</td>\n",
       "      <td>-90.321087</td>\n",
       "      <td>3.0</td>\n",
       "      <td>19</td>\n",
       "      <td>0</td>\n",
       "      <td>{'Caters': 'True', 'Alcohol': 'u'full_bar'', '...</td>\n",
       "      <td>Pubs, Restaurants, Italian, Bars, American (Tr...</td>\n",
       "      <td>None</td>\n",
       "      <td>[O]</td>\n",
       "      <td>False</td>\n",
       "      <td>u'full_bar'</td>\n",
       "      <td>{'romantic': False, 'intimate': False, 'touris...</td>\n",
       "      <td>False</td>\n",
       "      <td>True</td>\n",
       "      <td>{'garage': False, 'street': False, 'validated'...</td>\n",
       "      <td>False</td>\n",
       "      <td>True</td>\n",
       "      <td>False</td>\n",
       "      <td>False</td>\n",
       "      <td>False</td>\n",
       "      <td>True</td>\n",
       "      <td>True</td>\n",
       "      <td>False</td>\n",
       "      <td>True</td>\n",
       "      <td>True</td>\n",
       "      <td>u'casual'</td>\n",
       "      <td>1</td>\n",
       "      <td>False</td>\n",
       "      <td>False</td>\n",
       "      <td>True</td>\n",
       "      <td>False</td>\n",
       "      <td>u'free'</td>\n",
       "    </tr>\n",
       "  </tbody>\n",
       "</table>\n",
       "</div>"
      ],
      "text/plain": [
       "   index             business_id                   name            address  \\\n",
       "0      3  MTSW4McQd7CbVtyjqoe9mw     St Honore Pastries        935 Race St   \n",
       "1      5  CF33F8-E6oudUQ46HnavjQ         Sonic Drive-In      615 S Main St   \n",
       "2      8  k0hlBqXX-Bt0vf1op7Jr1w  Tsevi's Pub And Grill  8025 Mackenzie Rd   \n",
       "\n",
       "           city state postal_code   latitude  longitude  stars  review_count  \\\n",
       "0  Philadelphia    PA       19107  39.955505 -75.155564    4.0            80   \n",
       "1  Ashland City    TN       37015  36.269593 -87.058943    2.0             6   \n",
       "2        Affton    MO       63123  38.565165 -90.321087    3.0            19   \n",
       "\n",
       "   is_open                                         attributes  \\\n",
       "0        1  {'RestaurantsDelivery': 'False', 'OutdoorSeati...   \n",
       "1        1  {'BusinessParking': 'None', 'BusinessAcceptsCr...   \n",
       "2        0  {'Caters': 'True', 'Alcohol': 'u'full_bar'', '...   \n",
       "\n",
       "                                          categories  \\\n",
       "0  Restaurants, Food, Bubble Tea, Coffee & Tea, B...   \n",
       "1  Burgers, Fast Food, Sandwiches, Food, Ice Crea...   \n",
       "2  Pubs, Restaurants, Italian, Bars, American (Tr...   \n",
       "\n",
       "                                               hours food_type delivery  \\\n",
       "0  {'Monday': '7:0-20:0', 'Tuesday': '7:0-20:0', ...       [O]    False   \n",
       "1  {'Monday': '0:0-0:0', 'Tuesday': '6:0-22:0', '...       [O]     True   \n",
       "2                                               None       [O]    False   \n",
       "\n",
       "       alcohol                                           ambience  \\\n",
       "0      u'none'                                              False   \n",
       "1      u'none'                                               None   \n",
       "2  u'full_bar'  {'romantic': False, 'intimate': False, 'touris...   \n",
       "\n",
       "  bike_parking credit_card                                            parking  \\\n",
       "0         True       False  {'garage': False, 'street': True, 'validated':...   \n",
       "1        False        True                                               None   \n",
       "2        False        True  {'garage': False, 'street': False, 'validated'...   \n",
       "\n",
       "  appointment_only caters coat_check   dogs drive_thru good_for_kids  \\\n",
       "0            False   True      False  False      False         False   \n",
       "1            False  False      False  False       True          True   \n",
       "2            False   True      False  False      False          True   \n",
       "\n",
       "  good_for_groups happy_hour     tv outdoor_seating     attire price_range  \\\n",
       "0           False      False  False           False      False           1   \n",
       "1            True      False   True            True  u'casual'           1   \n",
       "2            True      False   True            True  u'casual'           1   \n",
       "\n",
       "  reservations table_service take_out wheelchair     wifi  \n",
       "0        False         False     True      False  u'free'  \n",
       "1        False         False     True       True    u'no'  \n",
       "2        False         False     True      False  u'free'  "
      ]
     },
     "execution_count": 902,
     "metadata": {},
     "output_type": "execute_result"
    }
   ],
   "source": [
    "# Extracting values from the `attributes` feature\n",
    "restaurants['delivery'] = restaurants['attributes'].apply(lambda x: x.get('RestaurantsDelivery', False) if x else False)\n",
    "restaurants['alcohol'] = restaurants['attributes'].apply(lambda x: x.get('Alcohol', False) if x else False)\n",
    "restaurants['ambience'] = restaurants['attributes'].apply(lambda x: x.get('Ambience', False) if x else False)\n",
    "restaurants['bike_parking'] = restaurants['attributes'].apply(lambda x: x.get('BikeParking', False) if x else False)\n",
    "restaurants['credit_card'] = restaurants['attributes'].apply(lambda x: x.get('BusinessAcceptsCreditCards', False) if x else False)\n",
    "restaurants['parking'] = restaurants['attributes'].apply(lambda x: x.get('BusinessParking', False) if x else False)\n",
    "restaurants['appointment_only'] = restaurants['attributes'].apply(lambda x: x.get('ByAppointmentOnly', False) if x else False)\n",
    "restaurants['caters'] = restaurants['attributes'].apply(lambda x: x.get('Caters', False) if x else False)\n",
    "restaurants['coat_check'] = restaurants['attributes'].apply(lambda x: x.get('CoatCheck', False) if x else False)\n",
    "restaurants['dogs'] = restaurants['attributes'].apply(lambda x: x.get('DogsAllowed', False) if x else False)\n",
    "restaurants['drive_thru'] = restaurants['attributes'].apply(lambda x: x.get('DriveThru', False) if x else False)\n",
    "restaurants['good_for_kids'] = restaurants['attributes'].apply(lambda x: x.get('GoodForKids', False) if x else False)\n",
    "restaurants['good_for_groups'] = restaurants['attributes'].apply(lambda x: x.get('RestaurantsGoodForGroups', False) if x else False)\n",
    "restaurants['happy_hour'] = restaurants['attributes'].apply(lambda x: x.get('HappyHour', False) if x else False)\n",
    "restaurants['tv'] = restaurants['attributes'].apply(lambda x: x.get('HasTV', False) if x else False)\n",
    "restaurants['outdoor_seating'] = restaurants['attributes'].apply(lambda x: x.get('OutdoorSeating', False) if x else False)\n",
    "restaurants['attire'] = restaurants['attributes'].apply(lambda x: x.get('RestaurantsAttire', False) if x else False)\n",
    "restaurants['price_range'] = restaurants['attributes'].apply(lambda x: x.get('RestaurantsPriceRange2', False) if x else False)\n",
    "restaurants['reservations'] = restaurants['attributes'].apply(lambda x: x.get('RestaurantsReservations', False) if x else False)\n",
    "restaurants['table_service'] = restaurants['attributes'].apply(lambda x: x.get('RestaurantsTableService', False) if x else False)\n",
    "restaurants['take_out'] = restaurants['attributes'].apply(lambda x: x.get('RestaurantsTakeOut', False) if x else False)\n",
    "restaurants['wheelchair'] = restaurants['attributes'].apply(lambda x: x.get('WheelchairAccessible', False) if x else False)\n",
    "restaurants['wifi'] = restaurants['attributes'].apply(lambda x: x.get('WiFi', False) if x else False)\n",
    "\n",
    "# Inspect df\n",
    "restaurants.head(3)"
   ]
  },
  {
   "cell_type": "markdown",
   "metadata": {},
   "source": [
    "#### Further processing of `alcohol`"
   ]
  },
  {
   "cell_type": "code",
   "execution_count": null,
   "metadata": {},
   "outputs": [],
   "source": [
    "# Further processing of `alcohol` feature\n",
    "restaurants['alcohol'][(restaurants['alcohol']== \"u'full_bar'\") |\n",
    "                       (restaurants['alcohol']== \"u'beer_and_wine'\") |\n",
    "                       (restaurants['alcohol']== \"'full_bar'\") |\n",
    "                       (restaurants['alcohol']== \"'beer_and_wine'\")] = True\n",
    "\n",
    "restaurants['alcohol'][(restaurants['alcohol']== \"u'none'\") |\n",
    "                       (restaurants['alcohol']== \"'none'\") |\n",
    "                       (restaurants['alcohol']== \"None\")] = False"
   ]
  },
  {
   "cell_type": "code",
   "execution_count": 904,
   "metadata": {},
   "outputs": [
    {
     "data": {
      "text/plain": [
       "False    0.624\n",
       "True     0.376\n",
       "Name: alcohol, dtype: float64"
      ]
     },
     "execution_count": 904,
     "metadata": {},
     "output_type": "execute_result"
    }
   ],
   "source": [
    "restaurants.alcohol.value_counts(normalize=True).round(3)"
   ]
  },
  {
   "cell_type": "markdown",
   "metadata": {},
   "source": [
    "#### Further processing of `ambience`"
   ]
  },
  {
   "cell_type": "code",
   "execution_count": 919,
   "metadata": {},
   "outputs": [
    {
     "data": {
      "text/plain": [
       "\"{'romantic': False, 'intimate': False, 'touristy': False, 'hipster': False, 'divey': False, 'classy': False, 'trendy': False, 'upscale': False, 'casual': False}\""
      ]
     },
     "execution_count": 919,
     "metadata": {},
     "output_type": "execute_result"
    }
   ],
   "source": [
    "restaurants.loc[2,'ambience']"
   ]
  },
  {
   "cell_type": "code",
   "execution_count": 920,
   "metadata": {},
   "outputs": [],
   "source": [
    "# Function to remove 'u' from keys in a dictionary\n",
    "# def remove_u_from_keys(d):\n",
    "#     if isinstance(d, dict):\n",
    "#         return {key.lstrip('u'): value for key, value in d.items()}\n",
    "#     return d\n",
    "\n",
    "def remove_u_from_keys(d):\n",
    "    if isinstance(d, dict):\n",
    "        return {str(key).lstrip('u').strip(\"'\"): value for key, value in d.items()}\n",
    "    return d\n",
    "\n",
    "# Apply the function to the 'ambience' column\n",
    "restaurants['ambience'] = restaurants['ambience'].apply(remove_u_from_keys)"
   ]
  },
  {
   "cell_type": "code",
   "execution_count": 921,
   "metadata": {},
   "outputs": [
    {
     "data": {
      "text/plain": [
       "False                                                                                                                                                                     0.204733\n",
       "{'touristy': False, 'hipster': False, 'romantic': False, 'divey': False, 'intimate': False, 'trendy': False, 'upscale': False, 'classy': False, 'casual': False}          0.120973\n",
       "{'romantic': False, 'intimate': False, 'classy': False, 'hipster': False, 'divey': False, 'touristy': False, 'trendy': False, 'upscale': False, 'casual': False}          0.091681\n",
       "{'romantic': False, 'intimate': False, 'classy': False, 'hipster': False, 'divey': False, 'touristy': False, 'trendy': False, 'upscale': False, 'casual': True}           0.079035\n",
       "{'romantic': False, 'intimate': False, 'touristy': False, 'hipster': False, 'divey': False, 'classy': False, 'trendy': False, 'upscale': False, 'casual': True}           0.078939\n",
       "                                                                                                                                                                            ...   \n",
       "{'touristy': False, 'hipster': False, 'romantic': None, 'divey': None, 'intimate': False, 'trendy': None, 'upscale': False, 'classy': None, 'casual': True}               0.000019\n",
       "{'touristy': False, 'hipster': None, 'romantic': False, 'divey': False, 'intimate': False, 'trendy': True, 'upscale': None, 'classy': False, 'casual': True}              0.000019\n",
       "{u'divey': None, u'hipster': False, u'casual': None, u'touristy': False, u'trendy': False, u'intimate': False, u'romantic': False, u'classy': False, u'upscale': None}    0.000019\n",
       "{'romantic': False, 'intimate': False, 'classy': False, 'upscale': False, 'touristy': False, 'trendy': True, 'hipster': False, 'casual': False}                           0.000019\n",
       "{'touristy': False, 'hipster': None, 'romantic': False, 'intimate': None, 'trendy': True, 'upscale': False, 'classy': False, 'casual': True}                              0.000019\n",
       "Name: ambience, Length: 2267, dtype: float64"
      ]
     },
     "execution_count": 921,
     "metadata": {},
     "output_type": "execute_result"
    }
   ],
   "source": [
    "restaurants.ambience.value_counts(normalize=True)"
   ]
  },
  {
   "cell_type": "markdown",
   "metadata": {},
   "source": [
    "### Observations\n",
    "- \n",
    "---"
   ]
  },
  {
   "cell_type": "markdown",
   "metadata": {},
   "source": [
    "### `hours`"
   ]
  },
  {
   "cell_type": "code",
   "execution_count": 929,
   "metadata": {},
   "outputs": [
    {
     "data": {
      "text/html": [
       "<div>\n",
       "<style scoped>\n",
       "    .dataframe tbody tr th:only-of-type {\n",
       "        vertical-align: middle;\n",
       "    }\n",
       "\n",
       "    .dataframe tbody tr th {\n",
       "        vertical-align: top;\n",
       "    }\n",
       "\n",
       "    .dataframe thead th {\n",
       "        text-align: right;\n",
       "    }\n",
       "</style>\n",
       "<table border=\"1\" class=\"dataframe\">\n",
       "  <thead>\n",
       "    <tr style=\"text-align: right;\">\n",
       "      <th></th>\n",
       "      <th>index</th>\n",
       "      <th>business_id</th>\n",
       "      <th>name</th>\n",
       "      <th>address</th>\n",
       "      <th>city</th>\n",
       "      <th>state</th>\n",
       "      <th>postal_code</th>\n",
       "      <th>latitude</th>\n",
       "      <th>longitude</th>\n",
       "      <th>stars</th>\n",
       "      <th>review_count</th>\n",
       "      <th>is_open</th>\n",
       "      <th>attributes</th>\n",
       "      <th>categories</th>\n",
       "      <th>hours</th>\n",
       "      <th>food_type</th>\n",
       "      <th>delivery</th>\n",
       "      <th>alcohol</th>\n",
       "      <th>ambience</th>\n",
       "      <th>bike_parking</th>\n",
       "      <th>credit_card</th>\n",
       "      <th>parking</th>\n",
       "      <th>appointment_only</th>\n",
       "      <th>caters</th>\n",
       "      <th>coat_check</th>\n",
       "      <th>dogs</th>\n",
       "      <th>drive_thru</th>\n",
       "      <th>good_for_kids</th>\n",
       "      <th>good_for_groups</th>\n",
       "      <th>happy_hour</th>\n",
       "      <th>tv</th>\n",
       "      <th>outdoor_seating</th>\n",
       "      <th>attire</th>\n",
       "      <th>price_range</th>\n",
       "      <th>reservations</th>\n",
       "      <th>table_service</th>\n",
       "      <th>take_out</th>\n",
       "      <th>wheelchair</th>\n",
       "      <th>wifi</th>\n",
       "    </tr>\n",
       "  </thead>\n",
       "  <tbody>\n",
       "    <tr>\n",
       "      <th>0</th>\n",
       "      <td>3</td>\n",
       "      <td>MTSW4McQd7CbVtyjqoe9mw</td>\n",
       "      <td>St Honore Pastries</td>\n",
       "      <td>935 Race St</td>\n",
       "      <td>Philadelphia</td>\n",
       "      <td>PA</td>\n",
       "      <td>19107</td>\n",
       "      <td>39.955505</td>\n",
       "      <td>-75.155564</td>\n",
       "      <td>4.0</td>\n",
       "      <td>80</td>\n",
       "      <td>1</td>\n",
       "      <td>{'RestaurantsDelivery': 'False', 'OutdoorSeati...</td>\n",
       "      <td>Restaurants, Food, Bubble Tea, Coffee &amp; Tea, B...</td>\n",
       "      <td>{'Monday': '7:0-20:0', 'Tuesday': '7:0-20:0', ...</td>\n",
       "      <td>[O]</td>\n",
       "      <td>False</td>\n",
       "      <td>False</td>\n",
       "      <td>False</td>\n",
       "      <td>True</td>\n",
       "      <td>False</td>\n",
       "      <td>{'garage': False, 'street': True, 'validated':...</td>\n",
       "      <td>False</td>\n",
       "      <td>True</td>\n",
       "      <td>False</td>\n",
       "      <td>False</td>\n",
       "      <td>False</td>\n",
       "      <td>False</td>\n",
       "      <td>False</td>\n",
       "      <td>False</td>\n",
       "      <td>False</td>\n",
       "      <td>False</td>\n",
       "      <td>False</td>\n",
       "      <td>1</td>\n",
       "      <td>False</td>\n",
       "      <td>False</td>\n",
       "      <td>True</td>\n",
       "      <td>False</td>\n",
       "      <td>u'free'</td>\n",
       "    </tr>\n",
       "    <tr>\n",
       "      <th>1</th>\n",
       "      <td>5</td>\n",
       "      <td>CF33F8-E6oudUQ46HnavjQ</td>\n",
       "      <td>Sonic Drive-In</td>\n",
       "      <td>615 S Main St</td>\n",
       "      <td>Ashland City</td>\n",
       "      <td>TN</td>\n",
       "      <td>37015</td>\n",
       "      <td>36.269593</td>\n",
       "      <td>-87.058943</td>\n",
       "      <td>2.0</td>\n",
       "      <td>6</td>\n",
       "      <td>1</td>\n",
       "      <td>{'BusinessParking': 'None', 'BusinessAcceptsCr...</td>\n",
       "      <td>Burgers, Fast Food, Sandwiches, Food, Ice Crea...</td>\n",
       "      <td>{'Monday': '0:0-0:0', 'Tuesday': '6:0-22:0', '...</td>\n",
       "      <td>[O]</td>\n",
       "      <td>True</td>\n",
       "      <td>False</td>\n",
       "      <td>None</td>\n",
       "      <td>False</td>\n",
       "      <td>True</td>\n",
       "      <td>None</td>\n",
       "      <td>False</td>\n",
       "      <td>False</td>\n",
       "      <td>False</td>\n",
       "      <td>False</td>\n",
       "      <td>True</td>\n",
       "      <td>True</td>\n",
       "      <td>True</td>\n",
       "      <td>False</td>\n",
       "      <td>True</td>\n",
       "      <td>True</td>\n",
       "      <td>u'casual'</td>\n",
       "      <td>1</td>\n",
       "      <td>False</td>\n",
       "      <td>False</td>\n",
       "      <td>True</td>\n",
       "      <td>True</td>\n",
       "      <td>u'no'</td>\n",
       "    </tr>\n",
       "    <tr>\n",
       "      <th>2</th>\n",
       "      <td>8</td>\n",
       "      <td>k0hlBqXX-Bt0vf1op7Jr1w</td>\n",
       "      <td>Tsevi's Pub And Grill</td>\n",
       "      <td>8025 Mackenzie Rd</td>\n",
       "      <td>Affton</td>\n",
       "      <td>MO</td>\n",
       "      <td>63123</td>\n",
       "      <td>38.565165</td>\n",
       "      <td>-90.321087</td>\n",
       "      <td>3.0</td>\n",
       "      <td>19</td>\n",
       "      <td>0</td>\n",
       "      <td>{'Caters': 'True', 'Alcohol': 'u'full_bar'', '...</td>\n",
       "      <td>Pubs, Restaurants, Italian, Bars, American (Tr...</td>\n",
       "      <td>None</td>\n",
       "      <td>[O]</td>\n",
       "      <td>False</td>\n",
       "      <td>True</td>\n",
       "      <td>{'romantic': False, 'intimate': False, 'touris...</td>\n",
       "      <td>False</td>\n",
       "      <td>True</td>\n",
       "      <td>{'garage': False, 'street': False, 'validated'...</td>\n",
       "      <td>False</td>\n",
       "      <td>True</td>\n",
       "      <td>False</td>\n",
       "      <td>False</td>\n",
       "      <td>False</td>\n",
       "      <td>True</td>\n",
       "      <td>True</td>\n",
       "      <td>False</td>\n",
       "      <td>True</td>\n",
       "      <td>True</td>\n",
       "      <td>u'casual'</td>\n",
       "      <td>1</td>\n",
       "      <td>False</td>\n",
       "      <td>False</td>\n",
       "      <td>True</td>\n",
       "      <td>False</td>\n",
       "      <td>u'free'</td>\n",
       "    </tr>\n",
       "    <tr>\n",
       "      <th>3</th>\n",
       "      <td>9</td>\n",
       "      <td>bBDDEgkFA1Otx9Lfe7BZUQ</td>\n",
       "      <td>Sonic Drive-In</td>\n",
       "      <td>2312 Dickerson Pike</td>\n",
       "      <td>Nashville</td>\n",
       "      <td>TN</td>\n",
       "      <td>37207</td>\n",
       "      <td>36.208102</td>\n",
       "      <td>-86.768170</td>\n",
       "      <td>1.5</td>\n",
       "      <td>10</td>\n",
       "      <td>1</td>\n",
       "      <td>{'RestaurantsAttire': ''casual'', 'Restaurants...</td>\n",
       "      <td>Ice Cream &amp; Frozen Yogurt, Fast Food, Burgers,...</td>\n",
       "      <td>{'Monday': '0:0-0:0', 'Tuesday': '6:0-21:0', '...</td>\n",
       "      <td>[O]</td>\n",
       "      <td>True</td>\n",
       "      <td>False</td>\n",
       "      <td>False</td>\n",
       "      <td>False</td>\n",
       "      <td>True</td>\n",
       "      <td>{'garage': False, 'street': False, 'validated'...</td>\n",
       "      <td>False</td>\n",
       "      <td>False</td>\n",
       "      <td>False</td>\n",
       "      <td>False</td>\n",
       "      <td>True</td>\n",
       "      <td>True</td>\n",
       "      <td>False</td>\n",
       "      <td>False</td>\n",
       "      <td>True</td>\n",
       "      <td>True</td>\n",
       "      <td>'casual'</td>\n",
       "      <td>1</td>\n",
       "      <td>False</td>\n",
       "      <td>False</td>\n",
       "      <td>True</td>\n",
       "      <td>True</td>\n",
       "      <td>u'no'</td>\n",
       "    </tr>\n",
       "    <tr>\n",
       "      <th>4</th>\n",
       "      <td>11</td>\n",
       "      <td>eEOYSgkmpB90uNA7lDOMRA</td>\n",
       "      <td>Vietnamese Food Truck</td>\n",
       "      <td></td>\n",
       "      <td>Tampa Bay</td>\n",
       "      <td>FL</td>\n",
       "      <td>33602</td>\n",
       "      <td>27.955269</td>\n",
       "      <td>-82.456320</td>\n",
       "      <td>4.0</td>\n",
       "      <td>10</td>\n",
       "      <td>1</td>\n",
       "      <td>{'Alcohol': ''none'', 'OutdoorSeating': 'None'...</td>\n",
       "      <td>Vietnamese, Food, Restaurants, Food Trucks</td>\n",
       "      <td>{'Monday': '11:0-14:0', 'Tuesday': '11:0-14:0'...</td>\n",
       "      <td>[O]</td>\n",
       "      <td>False</td>\n",
       "      <td>False</td>\n",
       "      <td>{'touristy': False, 'hipster': False, 'romanti...</td>\n",
       "      <td>False</td>\n",
       "      <td>False</td>\n",
       "      <td>{'garage': False, 'street': False, 'validated'...</td>\n",
       "      <td>False</td>\n",
       "      <td>False</td>\n",
       "      <td>False</td>\n",
       "      <td>False</td>\n",
       "      <td>False</td>\n",
       "      <td>False</td>\n",
       "      <td>False</td>\n",
       "      <td>False</td>\n",
       "      <td>False</td>\n",
       "      <td>None</td>\n",
       "      <td>False</td>\n",
       "      <td>False</td>\n",
       "      <td>False</td>\n",
       "      <td>False</td>\n",
       "      <td>False</td>\n",
       "      <td>False</td>\n",
       "      <td>False</td>\n",
       "    </tr>\n",
       "    <tr>\n",
       "      <th>5</th>\n",
       "      <td>12</td>\n",
       "      <td>il_Ro8jwPlHresjw9EGmBg</td>\n",
       "      <td>Denny's</td>\n",
       "      <td>8901 US 31 S</td>\n",
       "      <td>Indianapolis</td>\n",
       "      <td>IN</td>\n",
       "      <td>46227</td>\n",
       "      <td>39.637133</td>\n",
       "      <td>-86.127217</td>\n",
       "      <td>2.5</td>\n",
       "      <td>28</td>\n",
       "      <td>1</td>\n",
       "      <td>{'RestaurantsReservations': 'False', 'Restaura...</td>\n",
       "      <td>American (Traditional), Restaurants, Diners, B...</td>\n",
       "      <td>{'Monday': '6:0-22:0', 'Tuesday': '6:0-22:0', ...</td>\n",
       "      <td>[American (Traditional), Diners]</td>\n",
       "      <td>True</td>\n",
       "      <td>False</td>\n",
       "      <td>{'touristy': None, 'hipster': None, 'romantic'...</td>\n",
       "      <td>False</td>\n",
       "      <td>True</td>\n",
       "      <td>{'garage': None, 'street': False, 'validated':...</td>\n",
       "      <td>False</td>\n",
       "      <td>False</td>\n",
       "      <td>False</td>\n",
       "      <td>False</td>\n",
       "      <td>False</td>\n",
       "      <td>True</td>\n",
       "      <td>True</td>\n",
       "      <td>False</td>\n",
       "      <td>True</td>\n",
       "      <td>False</td>\n",
       "      <td>'casual'</td>\n",
       "      <td>1</td>\n",
       "      <td>False</td>\n",
       "      <td>False</td>\n",
       "      <td>True</td>\n",
       "      <td>False</td>\n",
       "      <td>u'no'</td>\n",
       "    </tr>\n",
       "    <tr>\n",
       "      <th>6</th>\n",
       "      <td>14</td>\n",
       "      <td>0bPLkL0QhhPO5kt1_EXmNQ</td>\n",
       "      <td>Zio's Italian Market</td>\n",
       "      <td>2575 E Bay Dr</td>\n",
       "      <td>Largo</td>\n",
       "      <td>FL</td>\n",
       "      <td>33771</td>\n",
       "      <td>27.916116</td>\n",
       "      <td>-82.760461</td>\n",
       "      <td>4.5</td>\n",
       "      <td>100</td>\n",
       "      <td>0</td>\n",
       "      <td>{'OutdoorSeating': 'False', 'RestaurantsGoodFo...</td>\n",
       "      <td>Food, Delis, Italian, Bakeries, Restaurants</td>\n",
       "      <td>{'Monday': '10:0-18:0', 'Tuesday': '10:0-20:0'...</td>\n",
       "      <td>[O]</td>\n",
       "      <td>True</td>\n",
       "      <td>False</td>\n",
       "      <td>{'romantic': False, 'intimate': False, 'touris...</td>\n",
       "      <td>True</td>\n",
       "      <td>True</td>\n",
       "      <td>{'garage': False, 'street': False, 'validated'...</td>\n",
       "      <td>False</td>\n",
       "      <td>True</td>\n",
       "      <td>False</td>\n",
       "      <td>False</td>\n",
       "      <td>False</td>\n",
       "      <td>True</td>\n",
       "      <td>False</td>\n",
       "      <td>False</td>\n",
       "      <td>True</td>\n",
       "      <td>False</td>\n",
       "      <td>u'casual'</td>\n",
       "      <td>1</td>\n",
       "      <td>False</td>\n",
       "      <td>False</td>\n",
       "      <td>True</td>\n",
       "      <td>True</td>\n",
       "      <td>u'no'</td>\n",
       "    </tr>\n",
       "    <tr>\n",
       "      <th>7</th>\n",
       "      <td>15</td>\n",
       "      <td>MUTTqe8uqyMdBl186RmNeA</td>\n",
       "      <td>Tuna Bar</td>\n",
       "      <td>205 Race St</td>\n",
       "      <td>Philadelphia</td>\n",
       "      <td>PA</td>\n",
       "      <td>19106</td>\n",
       "      <td>39.953949</td>\n",
       "      <td>-75.143226</td>\n",
       "      <td>4.0</td>\n",
       "      <td>245</td>\n",
       "      <td>1</td>\n",
       "      <td>{'RestaurantsReservations': 'True', 'Restauran...</td>\n",
       "      <td>Sushi Bars, Restaurants, Japanese</td>\n",
       "      <td>{'Tuesday': '13:30-22:0', 'Wednesday': '13:30-...</td>\n",
       "      <td>[Japanese, Sushi Bars]</td>\n",
       "      <td>True</td>\n",
       "      <td>True</td>\n",
       "      <td>{'touristy': False, 'hipster': False, 'romanti...</td>\n",
       "      <td>False</td>\n",
       "      <td>True</td>\n",
       "      <td>{u'valet': False, u'garage': None, u'street': ...</td>\n",
       "      <td>False</td>\n",
       "      <td>False</td>\n",
       "      <td>False</td>\n",
       "      <td>False</td>\n",
       "      <td>False</td>\n",
       "      <td>False</td>\n",
       "      <td>True</td>\n",
       "      <td>True</td>\n",
       "      <td>False</td>\n",
       "      <td>True</td>\n",
       "      <td>'casual'</td>\n",
       "      <td>2</td>\n",
       "      <td>True</td>\n",
       "      <td>True</td>\n",
       "      <td>True</td>\n",
       "      <td>True</td>\n",
       "      <td>'free'</td>\n",
       "    </tr>\n",
       "    <tr>\n",
       "      <th>8</th>\n",
       "      <td>19</td>\n",
       "      <td>ROeacJQwBeh05Rqg7F6TCg</td>\n",
       "      <td>BAP</td>\n",
       "      <td>1224 South St</td>\n",
       "      <td>Philadelphia</td>\n",
       "      <td>PA</td>\n",
       "      <td>19147</td>\n",
       "      <td>39.943223</td>\n",
       "      <td>-75.162568</td>\n",
       "      <td>4.5</td>\n",
       "      <td>205</td>\n",
       "      <td>1</td>\n",
       "      <td>{'NoiseLevel': 'u'quiet'', 'GoodForMeal': '{'d...</td>\n",
       "      <td>Korean, Restaurants</td>\n",
       "      <td>{'Monday': '11:30-20:30', 'Tuesday': '11:30-20...</td>\n",
       "      <td>[Korean]</td>\n",
       "      <td>None</td>\n",
       "      <td>False</td>\n",
       "      <td>{'touristy': False, 'hipster': False, 'romanti...</td>\n",
       "      <td>True</td>\n",
       "      <td>True</td>\n",
       "      <td>{'garage': False, 'street': True, 'validated':...</td>\n",
       "      <td>False</td>\n",
       "      <td>True</td>\n",
       "      <td>False</td>\n",
       "      <td>False</td>\n",
       "      <td>False</td>\n",
       "      <td>True</td>\n",
       "      <td>False</td>\n",
       "      <td>False</td>\n",
       "      <td>True</td>\n",
       "      <td>None</td>\n",
       "      <td>u'casual'</td>\n",
       "      <td>1</td>\n",
       "      <td>False</td>\n",
       "      <td>True</td>\n",
       "      <td>True</td>\n",
       "      <td>False</td>\n",
       "      <td>u'no'</td>\n",
       "    </tr>\n",
       "    <tr>\n",
       "      <th>9</th>\n",
       "      <td>20</td>\n",
       "      <td>WKMJwqnfZKsAae75RMP6jA</td>\n",
       "      <td>Roast Coffeehouse and Wine Bar</td>\n",
       "      <td>10359 104 Street NW</td>\n",
       "      <td>Edmonton</td>\n",
       "      <td>AB</td>\n",
       "      <td>T5J 1B9</td>\n",
       "      <td>53.546045</td>\n",
       "      <td>-113.499169</td>\n",
       "      <td>4.0</td>\n",
       "      <td>40</td>\n",
       "      <td>0</td>\n",
       "      <td>{'OutdoorSeating': 'False', 'Caters': 'True', ...</td>\n",
       "      <td>Coffee &amp; Tea, Food, Cafes, Bars, Wine Bars, Re...</td>\n",
       "      <td>{'Monday': '8:0-18:0', 'Tuesday': '8:0-18:0', ...</td>\n",
       "      <td>[O]</td>\n",
       "      <td>False</td>\n",
       "      <td>True</td>\n",
       "      <td>{'romantic': False, 'intimate': False, 'classy...</td>\n",
       "      <td>False</td>\n",
       "      <td>False</td>\n",
       "      <td>{'garage': False, 'street': True, 'validated':...</td>\n",
       "      <td>False</td>\n",
       "      <td>True</td>\n",
       "      <td>False</td>\n",
       "      <td>False</td>\n",
       "      <td>False</td>\n",
       "      <td>False</td>\n",
       "      <td>True</td>\n",
       "      <td>False</td>\n",
       "      <td>False</td>\n",
       "      <td>False</td>\n",
       "      <td>u'casual'</td>\n",
       "      <td>2</td>\n",
       "      <td>False</td>\n",
       "      <td>False</td>\n",
       "      <td>True</td>\n",
       "      <td>False</td>\n",
       "      <td>u'free'</td>\n",
       "    </tr>\n",
       "  </tbody>\n",
       "</table>\n",
       "</div>"
      ],
      "text/plain": [
       "   index             business_id                            name  \\\n",
       "0      3  MTSW4McQd7CbVtyjqoe9mw              St Honore Pastries   \n",
       "1      5  CF33F8-E6oudUQ46HnavjQ                  Sonic Drive-In   \n",
       "2      8  k0hlBqXX-Bt0vf1op7Jr1w           Tsevi's Pub And Grill   \n",
       "3      9  bBDDEgkFA1Otx9Lfe7BZUQ                  Sonic Drive-In   \n",
       "4     11  eEOYSgkmpB90uNA7lDOMRA           Vietnamese Food Truck   \n",
       "5     12  il_Ro8jwPlHresjw9EGmBg                         Denny's   \n",
       "6     14  0bPLkL0QhhPO5kt1_EXmNQ            Zio's Italian Market   \n",
       "7     15  MUTTqe8uqyMdBl186RmNeA                        Tuna Bar   \n",
       "8     19  ROeacJQwBeh05Rqg7F6TCg                             BAP   \n",
       "9     20  WKMJwqnfZKsAae75RMP6jA  Roast Coffeehouse and Wine Bar   \n",
       "\n",
       "               address          city state postal_code   latitude   longitude  \\\n",
       "0          935 Race St  Philadelphia    PA       19107  39.955505  -75.155564   \n",
       "1        615 S Main St  Ashland City    TN       37015  36.269593  -87.058943   \n",
       "2    8025 Mackenzie Rd        Affton    MO       63123  38.565165  -90.321087   \n",
       "3  2312 Dickerson Pike     Nashville    TN       37207  36.208102  -86.768170   \n",
       "4                          Tampa Bay    FL       33602  27.955269  -82.456320   \n",
       "5         8901 US 31 S  Indianapolis    IN       46227  39.637133  -86.127217   \n",
       "6        2575 E Bay Dr         Largo    FL       33771  27.916116  -82.760461   \n",
       "7          205 Race St  Philadelphia    PA       19106  39.953949  -75.143226   \n",
       "8        1224 South St  Philadelphia    PA       19147  39.943223  -75.162568   \n",
       "9  10359 104 Street NW      Edmonton    AB     T5J 1B9  53.546045 -113.499169   \n",
       "\n",
       "   stars  review_count  is_open  \\\n",
       "0    4.0            80        1   \n",
       "1    2.0             6        1   \n",
       "2    3.0            19        0   \n",
       "3    1.5            10        1   \n",
       "4    4.0            10        1   \n",
       "5    2.5            28        1   \n",
       "6    4.5           100        0   \n",
       "7    4.0           245        1   \n",
       "8    4.5           205        1   \n",
       "9    4.0            40        0   \n",
       "\n",
       "                                          attributes  \\\n",
       "0  {'RestaurantsDelivery': 'False', 'OutdoorSeati...   \n",
       "1  {'BusinessParking': 'None', 'BusinessAcceptsCr...   \n",
       "2  {'Caters': 'True', 'Alcohol': 'u'full_bar'', '...   \n",
       "3  {'RestaurantsAttire': ''casual'', 'Restaurants...   \n",
       "4  {'Alcohol': ''none'', 'OutdoorSeating': 'None'...   \n",
       "5  {'RestaurantsReservations': 'False', 'Restaura...   \n",
       "6  {'OutdoorSeating': 'False', 'RestaurantsGoodFo...   \n",
       "7  {'RestaurantsReservations': 'True', 'Restauran...   \n",
       "8  {'NoiseLevel': 'u'quiet'', 'GoodForMeal': '{'d...   \n",
       "9  {'OutdoorSeating': 'False', 'Caters': 'True', ...   \n",
       "\n",
       "                                          categories  \\\n",
       "0  Restaurants, Food, Bubble Tea, Coffee & Tea, B...   \n",
       "1  Burgers, Fast Food, Sandwiches, Food, Ice Crea...   \n",
       "2  Pubs, Restaurants, Italian, Bars, American (Tr...   \n",
       "3  Ice Cream & Frozen Yogurt, Fast Food, Burgers,...   \n",
       "4         Vietnamese, Food, Restaurants, Food Trucks   \n",
       "5  American (Traditional), Restaurants, Diners, B...   \n",
       "6        Food, Delis, Italian, Bakeries, Restaurants   \n",
       "7                  Sushi Bars, Restaurants, Japanese   \n",
       "8                                Korean, Restaurants   \n",
       "9  Coffee & Tea, Food, Cafes, Bars, Wine Bars, Re...   \n",
       "\n",
       "                                               hours  \\\n",
       "0  {'Monday': '7:0-20:0', 'Tuesday': '7:0-20:0', ...   \n",
       "1  {'Monday': '0:0-0:0', 'Tuesday': '6:0-22:0', '...   \n",
       "2                                               None   \n",
       "3  {'Monday': '0:0-0:0', 'Tuesday': '6:0-21:0', '...   \n",
       "4  {'Monday': '11:0-14:0', 'Tuesday': '11:0-14:0'...   \n",
       "5  {'Monday': '6:0-22:0', 'Tuesday': '6:0-22:0', ...   \n",
       "6  {'Monday': '10:0-18:0', 'Tuesday': '10:0-20:0'...   \n",
       "7  {'Tuesday': '13:30-22:0', 'Wednesday': '13:30-...   \n",
       "8  {'Monday': '11:30-20:30', 'Tuesday': '11:30-20...   \n",
       "9  {'Monday': '8:0-18:0', 'Tuesday': '8:0-18:0', ...   \n",
       "\n",
       "                          food_type delivery alcohol  \\\n",
       "0                               [O]    False   False   \n",
       "1                               [O]     True   False   \n",
       "2                               [O]    False    True   \n",
       "3                               [O]     True   False   \n",
       "4                               [O]    False   False   \n",
       "5  [American (Traditional), Diners]     True   False   \n",
       "6                               [O]     True   False   \n",
       "7            [Japanese, Sushi Bars]     True    True   \n",
       "8                          [Korean]     None   False   \n",
       "9                               [O]    False    True   \n",
       "\n",
       "                                            ambience bike_parking credit_card  \\\n",
       "0                                              False         True       False   \n",
       "1                                               None        False        True   \n",
       "2  {'romantic': False, 'intimate': False, 'touris...        False        True   \n",
       "3                                              False        False        True   \n",
       "4  {'touristy': False, 'hipster': False, 'romanti...        False       False   \n",
       "5  {'touristy': None, 'hipster': None, 'romantic'...        False        True   \n",
       "6  {'romantic': False, 'intimate': False, 'touris...         True        True   \n",
       "7  {'touristy': False, 'hipster': False, 'romanti...        False        True   \n",
       "8  {'touristy': False, 'hipster': False, 'romanti...         True        True   \n",
       "9  {'romantic': False, 'intimate': False, 'classy...        False       False   \n",
       "\n",
       "                                             parking appointment_only caters  \\\n",
       "0  {'garage': False, 'street': True, 'validated':...            False   True   \n",
       "1                                               None            False  False   \n",
       "2  {'garage': False, 'street': False, 'validated'...            False   True   \n",
       "3  {'garage': False, 'street': False, 'validated'...            False  False   \n",
       "4  {'garage': False, 'street': False, 'validated'...            False  False   \n",
       "5  {'garage': None, 'street': False, 'validated':...            False  False   \n",
       "6  {'garage': False, 'street': False, 'validated'...            False   True   \n",
       "7  {u'valet': False, u'garage': None, u'street': ...            False  False   \n",
       "8  {'garage': False, 'street': True, 'validated':...            False   True   \n",
       "9  {'garage': False, 'street': True, 'validated':...            False   True   \n",
       "\n",
       "  coat_check   dogs drive_thru good_for_kids good_for_groups happy_hour  \\\n",
       "0      False  False      False         False           False      False   \n",
       "1      False  False       True          True            True      False   \n",
       "2      False  False      False          True            True      False   \n",
       "3      False  False       True          True           False      False   \n",
       "4      False  False      False         False           False      False   \n",
       "5      False  False      False          True            True      False   \n",
       "6      False  False      False          True           False      False   \n",
       "7      False  False      False         False            True       True   \n",
       "8      False  False      False          True           False      False   \n",
       "9      False  False      False         False            True      False   \n",
       "\n",
       "      tv outdoor_seating     attire price_range reservations table_service  \\\n",
       "0  False           False      False           1        False         False   \n",
       "1   True            True  u'casual'           1        False         False   \n",
       "2   True            True  u'casual'           1        False         False   \n",
       "3   True            True   'casual'           1        False         False   \n",
       "4  False            None      False       False        False         False   \n",
       "5   True           False   'casual'           1        False         False   \n",
       "6   True           False  u'casual'           1        False         False   \n",
       "7  False            True   'casual'           2         True          True   \n",
       "8   True            None  u'casual'           1        False          True   \n",
       "9  False           False  u'casual'           2        False         False   \n",
       "\n",
       "  take_out wheelchair     wifi  \n",
       "0     True      False  u'free'  \n",
       "1     True       True    u'no'  \n",
       "2     True      False  u'free'  \n",
       "3     True       True    u'no'  \n",
       "4    False      False    False  \n",
       "5     True      False    u'no'  \n",
       "6     True       True    u'no'  \n",
       "7     True       True   'free'  \n",
       "8     True      False    u'no'  \n",
       "9     True      False  u'free'  "
      ]
     },
     "execution_count": 929,
     "metadata": {},
     "output_type": "execute_result"
    }
   ],
   "source": [
    "restaurants.head(10)"
   ]
  },
  {
   "cell_type": "code",
   "execution_count": 937,
   "metadata": {},
   "outputs": [],
   "source": [
    "example_hours = restaurants[[\"hours\"]].iloc[1,0]"
   ]
  },
  {
   "cell_type": "code",
   "execution_count": 946,
   "metadata": {},
   "outputs": [
    {
     "data": {
      "text/plain": [
       "{'Monday': '0:0-0:0',\n",
       " 'Tuesday': '6:0-22:0',\n",
       " 'Wednesday': '6:0-22:0',\n",
       " 'Thursday': '6:0-22:0',\n",
       " 'Friday': '9:0-0:0',\n",
       " 'Saturday': '9:0-22:0',\n",
       " 'Sunday': '8:0-22:0'}"
      ]
     },
     "execution_count": 946,
     "metadata": {},
     "output_type": "execute_result"
    }
   ],
   "source": [
    "example_hours"
   ]
  },
  {
   "cell_type": "code",
   "execution_count": 948,
   "metadata": {},
   "outputs": [
    {
     "data": {
      "text/plain": [
       "90"
      ]
     },
     "execution_count": 948,
     "metadata": {},
     "output_type": "execute_result"
    }
   ],
   "source": [
    "16*3+15+13+14"
   ]
  },
  {
   "cell_type": "code",
   "execution_count": 945,
   "metadata": {},
   "outputs": [
    {
     "data": {
      "text/plain": [
       "['0', '0']"
      ]
     },
     "execution_count": 945,
     "metadata": {},
     "output_type": "execute_result"
    }
   ],
   "source": [
    "example_hours['Monday'].split(\"-\")[0].split(\":\")"
   ]
  },
  {
   "cell_type": "code",
   "execution_count": 953,
   "metadata": {},
   "outputs": [
    {
     "name": "stdout",
     "output_type": "stream",
     "text": [
      "Monday 0:0-0:0\n",
      "Opening hour: 24 - Opening minute: 0.0\n",
      "Closing hour: 24 - Closing minute: 0.0\n",
      "Hours per week: 0.0\n",
      "\n",
      "Tuesday 6:0-22:0\n",
      "Opening hour: 6 - Opening minute: 0.0\n",
      "Closing hour: 22 - Closing minute: 0.0\n",
      "Hours per week: 16.0\n",
      "\n",
      "Wednesday 6:0-22:0\n",
      "Opening hour: 6 - Opening minute: 0.0\n",
      "Closing hour: 22 - Closing minute: 0.0\n",
      "Hours per week: 32.0\n",
      "\n",
      "Thursday 6:0-22:0\n",
      "Opening hour: 6 - Opening minute: 0.0\n",
      "Closing hour: 22 - Closing minute: 0.0\n",
      "Hours per week: 48.0\n",
      "\n",
      "Friday 9:0-0:0\n",
      "Opening hour: 9 - Opening minute: 0.0\n",
      "Closing hour: 24 - Closing minute: 0.0\n",
      "Hours per week: 63.0\n",
      "\n",
      "Saturday 9:0-22:0\n",
      "Opening hour: 9 - Opening minute: 0.0\n",
      "Closing hour: 22 - Closing minute: 0.0\n",
      "Hours per week: 76.0\n",
      "\n",
      "Sunday 8:0-22:0\n",
      "Opening hour: 8 - Opening minute: 0.0\n",
      "Closing hour: 22 - Closing minute: 0.0\n",
      "Hours per week: 90.0\n",
      "\n",
      "22\n"
     ]
    }
   ],
   "source": [
    "hours_per_week = 0\n",
    "\n",
    "for day, hours in example_hours.items():\n",
    "    print(day, hours)\n",
    "\n",
    "    hours_split = hours.split(\"-\")\n",
    "\n",
    "    opening_hours = hours_split[0].split(\":\")\n",
    "    closing_hours = hours_split[1].split(\":\")\n",
    "\n",
    "    opening_hour = int(opening_hours[0])\n",
    "    opening_minute = int(opening_hours[1])/60\n",
    "\n",
    "    closing_hour = int(closing_hours[0])\n",
    "    closing_minute = int(closing_hours[1])/60\n",
    "\n",
    "    if opening_hour == 0:\n",
    "        opening_hour = 24\n",
    "\n",
    "    if closing_hour == 0:\n",
    "        closing_hour = 24\n",
    "\n",
    "    opening_time = opening_hour + opening_minute\n",
    "    closing_time = closing_hour + closing_minute\n",
    "\n",
    "    hours_open = closing_time - opening_time\n",
    "\n",
    "    hours_per_week += hours_open\n",
    "\n",
    "    print(f'Opening hour: {opening_hour} - Opening minute: {opening_minute}\\nClosing hour: {closing_hour} - Closing minute: {closing_minute}\\nHours per week: {hours_per_week}\\n')\n",
    "\n",
    "print(closing_hour)"
   ]
  },
  {
   "cell_type": "code",
   "execution_count": 936,
   "metadata": {},
   "outputs": [
    {
     "data": {
      "text/html": [
       "<div>\n",
       "<style scoped>\n",
       "    .dataframe tbody tr th:only-of-type {\n",
       "        vertical-align: middle;\n",
       "    }\n",
       "\n",
       "    .dataframe tbody tr th {\n",
       "        vertical-align: top;\n",
       "    }\n",
       "\n",
       "    .dataframe thead th {\n",
       "        text-align: right;\n",
       "    }\n",
       "</style>\n",
       "<table border=\"1\" class=\"dataframe\">\n",
       "  <thead>\n",
       "    <tr style=\"text-align: right;\">\n",
       "      <th></th>\n",
       "      <th>hours</th>\n",
       "    </tr>\n",
       "  </thead>\n",
       "  <tbody>\n",
       "    <tr>\n",
       "      <th>0</th>\n",
       "      <td>{'Monday': '7:0-20:0', 'Tuesday': '7:0-20:0', ...</td>\n",
       "    </tr>\n",
       "    <tr>\n",
       "      <th>1</th>\n",
       "      <td>{'Monday': '0:0-0:0', 'Tuesday': '6:0-22:0', '...</td>\n",
       "    </tr>\n",
       "    <tr>\n",
       "      <th>2</th>\n",
       "      <td>None</td>\n",
       "    </tr>\n",
       "    <tr>\n",
       "      <th>3</th>\n",
       "      <td>{'Monday': '0:0-0:0', 'Tuesday': '6:0-21:0', '...</td>\n",
       "    </tr>\n",
       "    <tr>\n",
       "      <th>4</th>\n",
       "      <td>{'Monday': '11:0-14:0', 'Tuesday': '11:0-14:0'...</td>\n",
       "    </tr>\n",
       "    <tr>\n",
       "      <th>5</th>\n",
       "      <td>{'Monday': '6:0-22:0', 'Tuesday': '6:0-22:0', ...</td>\n",
       "    </tr>\n",
       "    <tr>\n",
       "      <th>6</th>\n",
       "      <td>{'Monday': '10:0-18:0', 'Tuesday': '10:0-20:0'...</td>\n",
       "    </tr>\n",
       "    <tr>\n",
       "      <th>7</th>\n",
       "      <td>{'Tuesday': '13:30-22:0', 'Wednesday': '13:30-...</td>\n",
       "    </tr>\n",
       "    <tr>\n",
       "      <th>8</th>\n",
       "      <td>{'Monday': '11:30-20:30', 'Tuesday': '11:30-20...</td>\n",
       "    </tr>\n",
       "    <tr>\n",
       "      <th>9</th>\n",
       "      <td>{'Monday': '8:0-18:0', 'Tuesday': '8:0-18:0', ...</td>\n",
       "    </tr>\n",
       "    <tr>\n",
       "      <th>10</th>\n",
       "      <td>{'Monday': '11:0-21:0', 'Tuesday': '11:0-21:0'...</td>\n",
       "    </tr>\n",
       "    <tr>\n",
       "      <th>11</th>\n",
       "      <td>{'Monday': '11:0-22:0', 'Tuesday': '11:0-22:0'...</td>\n",
       "    </tr>\n",
       "    <tr>\n",
       "      <th>12</th>\n",
       "      <td>None</td>\n",
       "    </tr>\n",
       "    <tr>\n",
       "      <th>13</th>\n",
       "      <td>{'Wednesday': '16:0-22:0', 'Thursday': '16:0-2...</td>\n",
       "    </tr>\n",
       "    <tr>\n",
       "      <th>14</th>\n",
       "      <td>{'Monday': '16:0-0:0', 'Tuesday': '16:0-0:0', ...</td>\n",
       "    </tr>\n",
       "    <tr>\n",
       "      <th>15</th>\n",
       "      <td>{'Monday': '10:0-0:0', 'Tuesday': '10:0-0:0', ...</td>\n",
       "    </tr>\n",
       "    <tr>\n",
       "      <th>16</th>\n",
       "      <td>{'Tuesday': '17:0-21:30', 'Wednesday': '17:0-1...</td>\n",
       "    </tr>\n",
       "    <tr>\n",
       "      <th>17</th>\n",
       "      <td>{'Monday': '11:0-0:0', 'Tuesday': '11:0-0:0', ...</td>\n",
       "    </tr>\n",
       "    <tr>\n",
       "      <th>18</th>\n",
       "      <td>{'Monday': '0:0-0:0', 'Wednesday': '16:0-22:0'...</td>\n",
       "    </tr>\n",
       "    <tr>\n",
       "      <th>19</th>\n",
       "      <td>None</td>\n",
       "    </tr>\n",
       "  </tbody>\n",
       "</table>\n",
       "</div>"
      ],
      "text/plain": [
       "                                                hours\n",
       "0   {'Monday': '7:0-20:0', 'Tuesday': '7:0-20:0', ...\n",
       "1   {'Monday': '0:0-0:0', 'Tuesday': '6:0-22:0', '...\n",
       "2                                                None\n",
       "3   {'Monday': '0:0-0:0', 'Tuesday': '6:0-21:0', '...\n",
       "4   {'Monday': '11:0-14:0', 'Tuesday': '11:0-14:0'...\n",
       "5   {'Monday': '6:0-22:0', 'Tuesday': '6:0-22:0', ...\n",
       "6   {'Monday': '10:0-18:0', 'Tuesday': '10:0-20:0'...\n",
       "7   {'Tuesday': '13:30-22:0', 'Wednesday': '13:30-...\n",
       "8   {'Monday': '11:30-20:30', 'Tuesday': '11:30-20...\n",
       "9   {'Monday': '8:0-18:0', 'Tuesday': '8:0-18:0', ...\n",
       "10  {'Monday': '11:0-21:0', 'Tuesday': '11:0-21:0'...\n",
       "11  {'Monday': '11:0-22:0', 'Tuesday': '11:0-22:0'...\n",
       "12                                               None\n",
       "13  {'Wednesday': '16:0-22:0', 'Thursday': '16:0-2...\n",
       "14  {'Monday': '16:0-0:0', 'Tuesday': '16:0-0:0', ...\n",
       "15  {'Monday': '10:0-0:0', 'Tuesday': '10:0-0:0', ...\n",
       "16  {'Tuesday': '17:0-21:30', 'Wednesday': '17:0-1...\n",
       "17  {'Monday': '11:0-0:0', 'Tuesday': '11:0-0:0', ...\n",
       "18  {'Monday': '0:0-0:0', 'Wednesday': '16:0-22:0'...\n",
       "19                                               None"
      ]
     },
     "execution_count": 936,
     "metadata": {},
     "output_type": "execute_result"
    }
   ],
   "source": [
    "restaurants[[\"hours\"]].head(20)"
   ]
  },
  {
   "cell_type": "code",
   "execution_count": 934,
   "metadata": {},
   "outputs": [],
   "source": [
    "for value in example_hours.values():\n",
    "    value.strip(\"'\")"
   ]
  },
  {
   "cell_type": "code",
   "execution_count": 935,
   "metadata": {},
   "outputs": [
    {
     "data": {
      "text/plain": [
       "{'Monday': '0:0-0:0',\n",
       " 'Tuesday': '6:0-22:0',\n",
       " 'Wednesday': '6:0-22:0',\n",
       " 'Thursday': '6:0-22:0',\n",
       " 'Friday': '9:0-0:0',\n",
       " 'Saturday': '9:0-22:0',\n",
       " 'Sunday': '8:0-22:0'}"
      ]
     },
     "execution_count": 935,
     "metadata": {},
     "output_type": "execute_result"
    }
   ],
   "source": [
    "example_hours"
   ]
  },
  {
   "cell_type": "markdown",
   "metadata": {},
   "source": [
    "#### `stars`"
   ]
  },
  {
   "cell_type": "code",
   "execution_count": 148,
   "metadata": {},
   "outputs": [
    {
     "data": {
      "text/plain": [
       "Text(0.5, 1.0, 'Stars\\nMean:3.6\\nStd. Dev:0.97')"
      ]
     },
     "execution_count": 148,
     "metadata": {},
     "output_type": "execute_result"
    },
    {
     "data": {
      "image/png": "[encoded data removed]",
      "text/plain": [
       "<Figure size 640x480 with 1 Axes>"
      ]
     },
     "metadata": {},
     "output_type": "display_data"
    }
   ],
   "source": [
    "sns.histplot(data = restaurants.stars);\n",
    "plt.title(f'Stars\\nMean:{round(restaurants.stars.mean(),2)}\\nStd. Dev:{round(restaurants.stars.std(),2)}')"
   ]
  },
  {
   "cell_type": "code",
   "execution_count": 188,
   "metadata": {},
   "outputs": [
    {
     "data": {
      "text/plain": [
       "9"
      ]
     },
     "execution_count": 188,
     "metadata": {},
     "output_type": "execute_result"
    }
   ],
   "source": [
    "restaurants.stars.nunique()"
   ]
  },
  {
   "cell_type": "markdown",
   "metadata": {},
   "source": [
    "#### `review_count`"
   ]
  },
  {
   "cell_type": "code",
   "execution_count": 149,
   "metadata": {},
   "outputs": [
    {
     "data": {
      "text/plain": [
       "Text(0.5, 1.0, 'Review Count (Zoomed)')"
      ]
     },
     "execution_count": 149,
     "metadata": {},
     "output_type": "execute_result"
    },
    {
     "data": {
      "image/png": "[encoded data removed]",
      "text/plain": [
       "<Figure size 1200x300 with 2 Axes>"
      ]
     },
     "metadata": {},
     "output_type": "display_data"
    }
   ],
   "source": [
    "fig, ax = plt.subplots(1, 2, figsize=(12,3))\n",
    "\n",
    "sns.histplot(data = restaurants.review_count, ax = ax[0])\n",
    "sns.histplot(data = restaurants.review_count, ax = ax[1])\n",
    "ax[1].set_xlim([0,100])\n",
    "ax[0].set_title(f'Review Count\\nMean:{round(restaurants.review_count.mean(),2)}\\nStd. Dev:{round(restaurants.review_count.std(),2)}')\n",
    "ax[1].set_title(f'Review Count (Zoomed)')"
   ]
  },
  {
   "cell_type": "code",
   "execution_count": 189,
   "metadata": {},
   "outputs": [
    {
     "data": {
      "text/plain": [
       "5"
      ]
     },
     "execution_count": 189,
     "metadata": {},
     "output_type": "execute_result"
    }
   ],
   "source": [
    "restaurants.review_count.min()"
   ]
  },
  {
   "cell_type": "markdown",
   "metadata": {},
   "source": [
    "#### `is_open`"
   ]
  },
  {
   "cell_type": "code",
   "execution_count": 151,
   "metadata": {},
   "outputs": [
    {
     "data": {
      "text/plain": [
       "Text(0.5, 1.0, 'Is open\\nMean:0.8\\nStd. Dev:0.4')"
      ]
     },
     "execution_count": 151,
     "metadata": {},
     "output_type": "execute_result"
    },
    {
     "data": {
      "image/png": "[encoded data removed]",
      "text/plain": [
       "<Figure size 640x480 with 1 Axes>"
      ]
     },
     "metadata": {},
     "output_type": "display_data"
    }
   ],
   "source": [
    "sns.histplot(data = restaurants.is_open);\n",
    "plt.title(f'Is open\\nMean:{round(restaurants.is_open.mean(),2)}\\nStd. Dev:{round(restaurants.is_open.std(),2)}',\n",
    "          fontsize=10)"
   ]
  },
  {
   "cell_type": "code",
   "execution_count": 152,
   "metadata": {},
   "outputs": [
    {
     "data": {
      "text/plain": [
       "1    0.79615\n",
       "0    0.20385\n",
       "Name: is_open, dtype: float64"
      ]
     },
     "execution_count": 152,
     "metadata": {},
     "output_type": "execute_result"
    }
   ],
   "source": [
    "restaurants.is_open.value_counts(normalize=True)"
   ]
  },
  {
   "cell_type": "markdown",
   "metadata": {},
   "source": [
    "### Categorical features: `city`, `state`, `attributes`, `categories`, `hours`\n",
    "#### `city`"
   ]
  },
  {
   "cell_type": "code",
   "execution_count": 153,
   "metadata": {},
   "outputs": [
    {
     "data": {
      "image/png": "[encoded data removed]",
      "text/plain": [
       "<Figure size 1500x500 with 1 Axes>"
      ]
     },
     "metadata": {},
     "output_type": "display_data"
    }
   ],
   "source": [
    "plt.figure(figsize=(15,5))\n",
    "\n",
    "# Plot cities by number of businesses\n",
    "city_counts = restaurants['city'].value_counts().reset_index()[:100]\n",
    "city_counts.columns = ['city', 'num_businesses']\n",
    "\n",
    "sns.barplot(data = city_counts,\n",
    "            x='city',\n",
    "            y='num_businesses')\n",
    "# Rotate x-tick labels due to many cities\n",
    "plt.xticks(rotation=90, fontsize=8);"
   ]
  },
  {
   "cell_type": "code",
   "execution_count": 154,
   "metadata": {},
   "outputs": [
    {
     "data": {
      "text/plain": [
       "0.3151397443230948"
      ]
     },
     "execution_count": 154,
     "metadata": {},
     "output_type": "execute_result"
    }
   ],
   "source": [
    "restaurants.city.value_counts(normalize=True)[:5].sum()"
   ]
  },
  {
   "cell_type": "code",
   "execution_count": 155,
   "metadata": {},
   "outputs": [
    {
     "data": {
      "text/plain": [
       "1416"
      ]
     },
     "execution_count": 155,
     "metadata": {},
     "output_type": "execute_result"
    }
   ],
   "source": [
    "restaurants.city.nunique()"
   ]
  },
  {
   "cell_type": "code",
   "execution_count": 156,
   "metadata": {},
   "outputs": [
    {
     "data": {
      "text/plain": [
       "0"
      ]
     },
     "execution_count": 156,
     "metadata": {},
     "output_type": "execute_result"
    }
   ],
   "source": [
    "restaurants.city.isnull().sum()"
   ]
  },
  {
   "cell_type": "code",
   "execution_count": null,
   "metadata": {},
   "outputs": [],
   "source": [
    "sns.scatterplot(data=restaurants,\n",
    "                )"
   ]
  },
  {
   "cell_type": "markdown",
   "metadata": {},
   "source": [
    "### __Observations__\n",
    "- There are __1416__ unique cities represented in the business dataset.\n",
    "- Philadelphia accounts for 9,6% of all businesses.\n",
    "- The top 5 cities (0,3% of all cities in dataset) account for 32% of businesses in the dataset.\n",
    "- __No missing values.__"
   ]
  },
  {
   "cell_type": "markdown",
   "metadata": {},
   "source": [
    "#### `state`"
   ]
  },
  {
   "cell_type": "code",
   "execution_count": 157,
   "metadata": {},
   "outputs": [
    {
     "data": {
      "image/png": "[encoded data removed]",
      "text/plain": [
       "<Figure size 1500x500 with 1 Axes>"
      ]
     },
     "metadata": {},
     "output_type": "display_data"
    }
   ],
   "source": [
    "plt.figure(figsize=(15,5))\n",
    "\n",
    "# Plot cities by number of businesses\n",
    "state_counts = restaurants['state'].value_counts().reset_index()\n",
    "state_counts.columns = ['state', 'num_businesses']\n",
    "\n",
    "sns.barplot(data = state_counts,\n",
    "            x='state',\n",
    "            y='num_businesses')\n",
    "# Rotate x-tick labels due to many states\n",
    "plt.xticks(rotation=90, fontsize=8);"
   ]
  },
  {
   "cell_type": "code",
   "execution_count": 158,
   "metadata": {},
   "outputs": [
    {
     "data": {
      "text/plain": [
       "27"
      ]
     },
     "execution_count": 158,
     "metadata": {},
     "output_type": "execute_result"
    }
   ],
   "source": [
    "restaurants.state.nunique()"
   ]
  },
  {
   "cell_type": "code",
   "execution_count": 159,
   "metadata": {},
   "outputs": [
    {
     "data": {
      "text/plain": [
       "0"
      ]
     },
     "execution_count": 159,
     "metadata": {},
     "output_type": "execute_result"
    }
   ],
   "source": [
    "restaurants.state.isnull().sum()"
   ]
  },
  {
   "cell_type": "code",
   "execution_count": 160,
   "metadata": {},
   "outputs": [
    {
     "data": {
      "text/plain": [
       "PA    0.226404\n",
       "FL    0.175129\n",
       "TN    0.080188\n",
       "IN    0.074807\n",
       "MO    0.072586\n",
       "Name: state, dtype: float64"
      ]
     },
     "execution_count": 160,
     "metadata": {},
     "output_type": "execute_result"
    }
   ],
   "source": [
    "restaurants.state.value_counts(normalize=True)[0:5]"
   ]
  },
  {
   "cell_type": "markdown",
   "metadata": {},
   "source": [
    "### __Observations__\n",
    "- 27 unique states represented\n",
    "- High concentration:\n",
    "  - Pennsylvania accounts for 23% of businesses\n",
    "  - The top 5 states account for 63% of businesses\n",
    "    - Pennsylvania (23%)\n",
    "    - Florida (18%)\n",
    "    - Tennessee (8%)\n",
    "    - Indiana (7%)\n",
    "    - Montana (7%)\n",
    "- __No missing values__."
   ]
  }
 ],
 "metadata": {
  "kernelspec": {
   "display_name": "Python 3",
   "language": "python",
   "name": "python3"
  },
  "language_info": {
   "codemirror_mode": {
    "name": "ipython",
    "version": 3
   },
   "file_extension": ".py",
   "mimetype": "text/x-python",
   "name": "python",
   "nbconvert_exporter": "python",
   "pygments_lexer": "ipython3",
   "version": "3.10.6"
  }
 },
 "nbformat": 4,
 "nbformat_minor": 2
}
